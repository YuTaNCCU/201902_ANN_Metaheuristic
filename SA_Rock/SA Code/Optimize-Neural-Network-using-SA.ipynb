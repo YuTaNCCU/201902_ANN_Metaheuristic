{
 "cells": [
  {
   "cell_type": "markdown",
   "metadata": {},
   "source": [
    "# Load Package"
   ]
  },
  {
   "cell_type": "code",
   "execution_count": 9,
   "metadata": {},
   "outputs": [
    {
     "name": "stderr",
     "output_type": "stream",
     "text": [
      "UsageError: unrecognized arguments: Load Dataset\n"
     ]
    }
   ],
   "source": [
    "import pandas as pd\n",
    "import numpy as np\n",
    "import seaborn as sns\n",
    "import matplotlib.pyplot as plt\n",
    "%matplotlib inline# Load Dataset"
   ]
  },
  {
   "cell_type": "markdown",
   "metadata": {},
   "source": [
    "# Load Dataset"
   ]
  },
  {
   "cell_type": "code",
   "execution_count": 10,
   "metadata": {},
   "outputs": [
    {
     "data": {
      "text/plain": [
       "dict_keys(['data', 'target', 'target_names', 'DESCR', 'feature_names', 'filename'])"
      ]
     },
     "execution_count": 10,
     "metadata": {},
     "output_type": "execute_result"
    }
   ],
   "source": [
    "from sklearn.datasets import load_breast_cancer\n",
    "\n",
    "#資料集是以dictionary的形式存在\n",
    "cancer = load_breast_cancer()\n",
    "cancer.keys()"
   ]
  },
  {
   "cell_type": "markdown",
   "metadata": {},
   "source": [
    "# Turn into DataFrame"
   ]
  },
  {
   "cell_type": "code",
   "execution_count": 11,
   "metadata": {},
   "outputs": [
    {
     "name": "stdout",
     "output_type": "stream",
     "text": [
      "<class 'pandas.core.frame.DataFrame'>\n",
      "RangeIndex: 569 entries, 0 to 568\n",
      "Data columns (total 30 columns):\n",
      "mean radius                569 non-null float64\n",
      "mean texture               569 non-null float64\n",
      "mean perimeter             569 non-null float64\n",
      "mean area                  569 non-null float64\n",
      "mean smoothness            569 non-null float64\n",
      "mean compactness           569 non-null float64\n",
      "mean concavity             569 non-null float64\n",
      "mean concave points        569 non-null float64\n",
      "mean symmetry              569 non-null float64\n",
      "mean fractal dimension     569 non-null float64\n",
      "radius error               569 non-null float64\n",
      "texture error              569 non-null float64\n",
      "perimeter error            569 non-null float64\n",
      "area error                 569 non-null float64\n",
      "smoothness error           569 non-null float64\n",
      "compactness error          569 non-null float64\n",
      "concavity error            569 non-null float64\n",
      "concave points error       569 non-null float64\n",
      "symmetry error             569 non-null float64\n",
      "fractal dimension error    569 non-null float64\n",
      "worst radius               569 non-null float64\n",
      "worst texture              569 non-null float64\n",
      "worst perimeter            569 non-null float64\n",
      "worst area                 569 non-null float64\n",
      "worst smoothness           569 non-null float64\n",
      "worst compactness          569 non-null float64\n",
      "worst concavity            569 non-null float64\n",
      "worst concave points       569 non-null float64\n",
      "worst symmetry             569 non-null float64\n",
      "worst fractal dimension    569 non-null float64\n",
      "dtypes: float64(30)\n",
      "memory usage: 133.4 KB\n"
     ]
    },
    {
     "data": {
      "text/html": [
       "<div>\n",
       "<style scoped>\n",
       "    .dataframe tbody tr th:only-of-type {\n",
       "        vertical-align: middle;\n",
       "    }\n",
       "\n",
       "    .dataframe tbody tr th {\n",
       "        vertical-align: top;\n",
       "    }\n",
       "\n",
       "    .dataframe thead th {\n",
       "        text-align: right;\n",
       "    }\n",
       "</style>\n",
       "<table border=\"1\" class=\"dataframe\">\n",
       "  <thead>\n",
       "    <tr style=\"text-align: right;\">\n",
       "      <th></th>\n",
       "      <th>mean radius</th>\n",
       "      <th>mean texture</th>\n",
       "      <th>mean perimeter</th>\n",
       "      <th>mean area</th>\n",
       "      <th>mean smoothness</th>\n",
       "      <th>mean compactness</th>\n",
       "      <th>mean concavity</th>\n",
       "      <th>mean concave points</th>\n",
       "      <th>mean symmetry</th>\n",
       "      <th>mean fractal dimension</th>\n",
       "      <th>...</th>\n",
       "      <th>worst radius</th>\n",
       "      <th>worst texture</th>\n",
       "      <th>worst perimeter</th>\n",
       "      <th>worst area</th>\n",
       "      <th>worst smoothness</th>\n",
       "      <th>worst compactness</th>\n",
       "      <th>worst concavity</th>\n",
       "      <th>worst concave points</th>\n",
       "      <th>worst symmetry</th>\n",
       "      <th>worst fractal dimension</th>\n",
       "    </tr>\n",
       "  </thead>\n",
       "  <tbody>\n",
       "    <tr>\n",
       "      <th>0</th>\n",
       "      <td>17.99</td>\n",
       "      <td>10.38</td>\n",
       "      <td>122.80</td>\n",
       "      <td>1001.0</td>\n",
       "      <td>0.11840</td>\n",
       "      <td>0.27760</td>\n",
       "      <td>0.3001</td>\n",
       "      <td>0.14710</td>\n",
       "      <td>0.2419</td>\n",
       "      <td>0.07871</td>\n",
       "      <td>...</td>\n",
       "      <td>25.38</td>\n",
       "      <td>17.33</td>\n",
       "      <td>184.60</td>\n",
       "      <td>2019.0</td>\n",
       "      <td>0.1622</td>\n",
       "      <td>0.6656</td>\n",
       "      <td>0.7119</td>\n",
       "      <td>0.2654</td>\n",
       "      <td>0.4601</td>\n",
       "      <td>0.11890</td>\n",
       "    </tr>\n",
       "    <tr>\n",
       "      <th>1</th>\n",
       "      <td>20.57</td>\n",
       "      <td>17.77</td>\n",
       "      <td>132.90</td>\n",
       "      <td>1326.0</td>\n",
       "      <td>0.08474</td>\n",
       "      <td>0.07864</td>\n",
       "      <td>0.0869</td>\n",
       "      <td>0.07017</td>\n",
       "      <td>0.1812</td>\n",
       "      <td>0.05667</td>\n",
       "      <td>...</td>\n",
       "      <td>24.99</td>\n",
       "      <td>23.41</td>\n",
       "      <td>158.80</td>\n",
       "      <td>1956.0</td>\n",
       "      <td>0.1238</td>\n",
       "      <td>0.1866</td>\n",
       "      <td>0.2416</td>\n",
       "      <td>0.1860</td>\n",
       "      <td>0.2750</td>\n",
       "      <td>0.08902</td>\n",
       "    </tr>\n",
       "    <tr>\n",
       "      <th>2</th>\n",
       "      <td>19.69</td>\n",
       "      <td>21.25</td>\n",
       "      <td>130.00</td>\n",
       "      <td>1203.0</td>\n",
       "      <td>0.10960</td>\n",
       "      <td>0.15990</td>\n",
       "      <td>0.1974</td>\n",
       "      <td>0.12790</td>\n",
       "      <td>0.2069</td>\n",
       "      <td>0.05999</td>\n",
       "      <td>...</td>\n",
       "      <td>23.57</td>\n",
       "      <td>25.53</td>\n",
       "      <td>152.50</td>\n",
       "      <td>1709.0</td>\n",
       "      <td>0.1444</td>\n",
       "      <td>0.4245</td>\n",
       "      <td>0.4504</td>\n",
       "      <td>0.2430</td>\n",
       "      <td>0.3613</td>\n",
       "      <td>0.08758</td>\n",
       "    </tr>\n",
       "    <tr>\n",
       "      <th>3</th>\n",
       "      <td>11.42</td>\n",
       "      <td>20.38</td>\n",
       "      <td>77.58</td>\n",
       "      <td>386.1</td>\n",
       "      <td>0.14250</td>\n",
       "      <td>0.28390</td>\n",
       "      <td>0.2414</td>\n",
       "      <td>0.10520</td>\n",
       "      <td>0.2597</td>\n",
       "      <td>0.09744</td>\n",
       "      <td>...</td>\n",
       "      <td>14.91</td>\n",
       "      <td>26.50</td>\n",
       "      <td>98.87</td>\n",
       "      <td>567.7</td>\n",
       "      <td>0.2098</td>\n",
       "      <td>0.8663</td>\n",
       "      <td>0.6869</td>\n",
       "      <td>0.2575</td>\n",
       "      <td>0.6638</td>\n",
       "      <td>0.17300</td>\n",
       "    </tr>\n",
       "    <tr>\n",
       "      <th>4</th>\n",
       "      <td>20.29</td>\n",
       "      <td>14.34</td>\n",
       "      <td>135.10</td>\n",
       "      <td>1297.0</td>\n",
       "      <td>0.10030</td>\n",
       "      <td>0.13280</td>\n",
       "      <td>0.1980</td>\n",
       "      <td>0.10430</td>\n",
       "      <td>0.1809</td>\n",
       "      <td>0.05883</td>\n",
       "      <td>...</td>\n",
       "      <td>22.54</td>\n",
       "      <td>16.67</td>\n",
       "      <td>152.20</td>\n",
       "      <td>1575.0</td>\n",
       "      <td>0.1374</td>\n",
       "      <td>0.2050</td>\n",
       "      <td>0.4000</td>\n",
       "      <td>0.1625</td>\n",
       "      <td>0.2364</td>\n",
       "      <td>0.07678</td>\n",
       "    </tr>\n",
       "  </tbody>\n",
       "</table>\n",
       "<p>5 rows × 30 columns</p>\n",
       "</div>"
      ],
      "text/plain": [
       "   mean radius  mean texture  mean perimeter  mean area  mean smoothness  \\\n",
       "0        17.99         10.38          122.80     1001.0          0.11840   \n",
       "1        20.57         17.77          132.90     1326.0          0.08474   \n",
       "2        19.69         21.25          130.00     1203.0          0.10960   \n",
       "3        11.42         20.38           77.58      386.1          0.14250   \n",
       "4        20.29         14.34          135.10     1297.0          0.10030   \n",
       "\n",
       "   mean compactness  mean concavity  mean concave points  mean symmetry  \\\n",
       "0           0.27760          0.3001              0.14710         0.2419   \n",
       "1           0.07864          0.0869              0.07017         0.1812   \n",
       "2           0.15990          0.1974              0.12790         0.2069   \n",
       "3           0.28390          0.2414              0.10520         0.2597   \n",
       "4           0.13280          0.1980              0.10430         0.1809   \n",
       "\n",
       "   mean fractal dimension           ...             worst radius  \\\n",
       "0                 0.07871           ...                    25.38   \n",
       "1                 0.05667           ...                    24.99   \n",
       "2                 0.05999           ...                    23.57   \n",
       "3                 0.09744           ...                    14.91   \n",
       "4                 0.05883           ...                    22.54   \n",
       "\n",
       "   worst texture  worst perimeter  worst area  worst smoothness  \\\n",
       "0          17.33           184.60      2019.0            0.1622   \n",
       "1          23.41           158.80      1956.0            0.1238   \n",
       "2          25.53           152.50      1709.0            0.1444   \n",
       "3          26.50            98.87       567.7            0.2098   \n",
       "4          16.67           152.20      1575.0            0.1374   \n",
       "\n",
       "   worst compactness  worst concavity  worst concave points  worst symmetry  \\\n",
       "0             0.6656           0.7119                0.2654          0.4601   \n",
       "1             0.1866           0.2416                0.1860          0.2750   \n",
       "2             0.4245           0.4504                0.2430          0.3613   \n",
       "3             0.8663           0.6869                0.2575          0.6638   \n",
       "4             0.2050           0.4000                0.1625          0.2364   \n",
       "\n",
       "   worst fractal dimension  \n",
       "0                  0.11890  \n",
       "1                  0.08902  \n",
       "2                  0.08758  \n",
       "3                  0.17300  \n",
       "4                  0.07678  \n",
       "\n",
       "[5 rows x 30 columns]"
      ]
     },
     "execution_count": 11,
     "metadata": {},
     "output_type": "execute_result"
    }
   ],
   "source": [
    "df_feat = pd.DataFrame(cancer['data'],columns=cancer['feature_names'])\n",
    "df_feat.info()\n",
    "df_feat.head()"
   ]
  },
  {
   "cell_type": "markdown",
   "metadata": {},
   "source": [
    "# Data Preprocessing"
   ]
  },
  {
   "cell_type": "code",
   "execution_count": null,
   "metadata": {},
   "outputs": [],
   "source": [
    "X = df_feat.iloc[:, ].values\n",
    "y = cancer['target']\n",
    "\n",
    "# Encoding categorical data\n",
    "from sklearn.preprocessing import LabelEncoder\n",
    "labelencoder_X_1 = LabelEncoder()\n",
    "y = labelencoder_X_1.fit_transform(y)\n",
    "\n",
    "# Splitting the dataset into the Training set and Test set\n",
    "from sklearn.model_selection import train_test_split\n",
    "X_train, X_test, y_train, y_test = train_test_split(X, y, test_size = 0.2, random_state = 0)\n",
    "\n",
    "#Feature Scaling\n",
    "from sklearn.preprocessing import StandardScaler\n",
    "sc = StandardScaler()\n",
    "X_train = sc.fit_transform(X_train)\n",
    "X_test = sc.transform(X_test)\n",
    "\n",
    "X_train.shape,X_test.shape,y_train.shape,y_test.shape"
   ]
  },
  {
   "cell_type": "markdown",
   "metadata": {},
   "source": [
    "# Train FNN"
   ]
  },
  {
   "cell_type": "code",
   "execution_count": 121,
   "metadata": {},
   "outputs": [
    {
     "name": "stdout",
     "output_type": "stream",
     "text": [
      "env: KERAS_BACKEND=tensorflow\n"
     ]
    }
   ],
   "source": [
    "%env KERAS_BACKEND = tensorflow\n",
    "import keras\n",
    "from keras.models import Sequential\n",
    "from keras.layers import Dense, Dropout\n",
    "from keras.optimizers import SGD,adam"
   ]
  },
  {
   "cell_type": "code",
   "execution_count": 122,
   "metadata": {},
   "outputs": [
    {
     "name": "stderr",
     "output_type": "stream",
     "text": [
      "c:\\users\\howard\\appdata\\local\\programs\\python\\python36\\lib\\site-packages\\ipykernel_launcher.py:4: UserWarning: Update your `Dense` call to the Keras 2 API: `Dense(activation=\"relu\", input_dim=30, units=16, kernel_initializer=\"uniform\")`\n",
      "  after removing the cwd from sys.path.\n",
      "c:\\users\\howard\\appdata\\local\\programs\\python\\python36\\lib\\site-packages\\ipykernel_launcher.py:6: UserWarning: Update your `Dropout` call to the Keras 2 API: `Dropout(rate=0.1)`\n",
      "  \n",
      "c:\\users\\howard\\appdata\\local\\programs\\python\\python36\\lib\\site-packages\\ipykernel_launcher.py:8: UserWarning: Update your `Dense` call to the Keras 2 API: `Dense(activation=\"relu\", units=16, kernel_initializer=\"uniform\")`\n",
      "  \n",
      "c:\\users\\howard\\appdata\\local\\programs\\python\\python36\\lib\\site-packages\\ipykernel_launcher.py:10: UserWarning: Update your `Dropout` call to the Keras 2 API: `Dropout(rate=0.1)`\n",
      "  # Remove the CWD from sys.path while we load stuff.\n",
      "c:\\users\\howard\\appdata\\local\\programs\\python\\python36\\lib\\site-packages\\ipykernel_launcher.py:12: UserWarning: Update your `Dense` call to the Keras 2 API: `Dense(activation=\"sigmoid\", units=1, kernel_initializer=\"uniform\")`\n",
      "  if sys.path[0] == '':\n"
     ]
    }
   ],
   "source": [
    "# Initialising the ANN\n",
    "classifier = Sequential()\n",
    "# Adding the input layer and the first hidden layer\n",
    "classifier.add(Dense(output_dim=16, init='uniform', activation='relu', input_dim=30))\n",
    "# Adding dropout to prevent overfitting\n",
    "classifier.add(Dropout(p=0.1))\n",
    "# Adding the second hidden layer\n",
    "classifier.add(Dense(output_dim=16, init='uniform', activation='relu'))\n",
    "# Adding dropout to prevent overfitting\n",
    "classifier.add(Dropout(p=0.1))\n",
    "# Adding the output layer\n",
    "classifier.add(Dense(output_dim=1, init='uniform', activation='sigmoid'))\n",
    "# Compiling the ANN\n",
    "classifier.compile(optimizer='adam', loss='binary_crossentropy', metrics=['accuracy'])"
   ]
  },
  {
   "cell_type": "code",
   "execution_count": 123,
   "metadata": {},
   "outputs": [
    {
     "name": "stdout",
     "output_type": "stream",
     "text": [
      "_________________________________________________________________\n",
      "Layer (type)                 Output Shape              Param #   \n",
      "=================================================================\n",
      "dense_19 (Dense)             (None, 16)                496       \n",
      "_________________________________________________________________\n",
      "dropout_13 (Dropout)         (None, 16)                0         \n",
      "_________________________________________________________________\n",
      "dense_20 (Dense)             (None, 16)                272       \n",
      "_________________________________________________________________\n",
      "dropout_14 (Dropout)         (None, 16)                0         \n",
      "_________________________________________________________________\n",
      "dense_21 (Dense)             (None, 1)                 17        \n",
      "=================================================================\n",
      "Total params: 785\n",
      "Trainable params: 785\n",
      "Non-trainable params: 0\n",
      "_________________________________________________________________\n"
     ]
    }
   ],
   "source": [
    "classifier.summary()"
   ]
  },
  {
   "cell_type": "code",
   "execution_count": 124,
   "metadata": {},
   "outputs": [
    {
     "name": "stdout",
     "output_type": "stream",
     "text": [
      "Epoch 1/100\n",
      "455/455 [==============================] - 0s 846us/step - loss: 0.6931 - acc: 0.4901\n",
      "Epoch 2/100\n",
      "455/455 [==============================] - 0s 33us/step - loss: 0.6916 - acc: 0.6374\n",
      "Epoch 3/100\n",
      "455/455 [==============================] - 0s 35us/step - loss: 0.6897 - acc: 0.6484\n",
      "Epoch 4/100\n",
      "455/455 [==============================] - 0s 35us/step - loss: 0.6869 - acc: 0.6791\n",
      "Epoch 5/100\n",
      "455/455 [==============================] - 0s 33us/step - loss: 0.6825 - acc: 0.7473\n",
      "Epoch 6/100\n",
      "455/455 [==============================] - 0s 33us/step - loss: 0.6761 - acc: 0.8242\n",
      "Epoch 7/100\n",
      "455/455 [==============================] - 0s 33us/step - loss: 0.6661 - acc: 0.8945\n",
      "Epoch 8/100\n",
      "455/455 [==============================] - 0s 33us/step - loss: 0.6522 - acc: 0.9209\n",
      "Epoch 9/100\n",
      "455/455 [==============================] - 0s 35us/step - loss: 0.6332 - acc: 0.9297\n",
      "Epoch 10/100\n",
      "455/455 [==============================] - 0s 33us/step - loss: 0.6069 - acc: 0.9363\n",
      "Epoch 11/100\n",
      "455/455 [==============================] - 0s 33us/step - loss: 0.5750 - acc: 0.9429\n",
      "Epoch 12/100\n",
      "455/455 [==============================] - 0s 33us/step - loss: 0.5369 - acc: 0.9429\n",
      "Epoch 13/100\n",
      "455/455 [==============================] - 0s 33us/step - loss: 0.4925 - acc: 0.9495\n",
      "Epoch 14/100\n",
      "455/455 [==============================] - 0s 31us/step - loss: 0.4470 - acc: 0.9516\n",
      "Epoch 15/100\n",
      "455/455 [==============================] - 0s 33us/step - loss: 0.3988 - acc: 0.9560\n",
      "Epoch 16/100\n",
      "455/455 [==============================] - 0s 31us/step - loss: 0.3515 - acc: 0.9560\n",
      "Epoch 17/100\n",
      "455/455 [==============================] - 0s 35us/step - loss: 0.3020 - acc: 0.9604\n",
      "Epoch 18/100\n",
      "455/455 [==============================] - 0s 33us/step - loss: 0.2661 - acc: 0.9626\n",
      "Epoch 19/100\n",
      "455/455 [==============================] - 0s 35us/step - loss: 0.2344 - acc: 0.9648\n",
      "Epoch 20/100\n",
      "455/455 [==============================] - 0s 35us/step - loss: 0.2069 - acc: 0.9692\n",
      "Epoch 21/100\n",
      "455/455 [==============================] - 0s 31us/step - loss: 0.1840 - acc: 0.9736\n",
      "Epoch 22/100\n",
      "455/455 [==============================] - 0s 37us/step - loss: 0.1685 - acc: 0.9714\n",
      "Epoch 23/100\n",
      "455/455 [==============================] - 0s 37us/step - loss: 0.1484 - acc: 0.9736\n",
      "Epoch 24/100\n",
      "455/455 [==============================] - 0s 31us/step - loss: 0.1438 - acc: 0.9736\n",
      "Epoch 25/100\n",
      "455/455 [==============================] - 0s 33us/step - loss: 0.1295 - acc: 0.9736\n",
      "Epoch 26/100\n",
      "455/455 [==============================] - 0s 35us/step - loss: 0.1222 - acc: 0.9736\n",
      "Epoch 27/100\n",
      "455/455 [==============================] - 0s 33us/step - loss: 0.1115 - acc: 0.9736\n",
      "Epoch 28/100\n",
      "455/455 [==============================] - 0s 37us/step - loss: 0.1047 - acc: 0.9736\n",
      "Epoch 29/100\n",
      "455/455 [==============================] - 0s 33us/step - loss: 0.1000 - acc: 0.9758\n",
      "Epoch 30/100\n",
      "455/455 [==============================] - 0s 31us/step - loss: 0.0984 - acc: 0.9758\n",
      "Epoch 31/100\n",
      "455/455 [==============================] - 0s 33us/step - loss: 0.0936 - acc: 0.9824\n",
      "Epoch 32/100\n",
      "455/455 [==============================] - 0s 33us/step - loss: 0.0939 - acc: 0.9780\n",
      "Epoch 33/100\n",
      "455/455 [==============================] - 0s 33us/step - loss: 0.0884 - acc: 0.9780\n",
      "Epoch 34/100\n",
      "455/455 [==============================] - 0s 35us/step - loss: 0.0853 - acc: 0.9780\n",
      "Epoch 35/100\n",
      "455/455 [==============================] - 0s 33us/step - loss: 0.0878 - acc: 0.9802\n",
      "Epoch 36/100\n",
      "455/455 [==============================] - 0s 33us/step - loss: 0.0814 - acc: 0.9846\n",
      "Epoch 37/100\n",
      "455/455 [==============================] - 0s 35us/step - loss: 0.0831 - acc: 0.9846\n",
      "Epoch 38/100\n",
      "455/455 [==============================] - 0s 37us/step - loss: 0.0779 - acc: 0.9824\n",
      "Epoch 39/100\n",
      "455/455 [==============================] - 0s 42us/step - loss: 0.0745 - acc: 0.9824\n",
      "Epoch 40/100\n",
      "455/455 [==============================] - 0s 35us/step - loss: 0.0772 - acc: 0.9780\n",
      "Epoch 41/100\n",
      "455/455 [==============================] - 0s 35us/step - loss: 0.0768 - acc: 0.9824\n",
      "Epoch 42/100\n",
      "455/455 [==============================] - 0s 39us/step - loss: 0.0766 - acc: 0.9846\n",
      "Epoch 43/100\n",
      "455/455 [==============================] - 0s 37us/step - loss: 0.0690 - acc: 0.9868\n",
      "Epoch 44/100\n",
      "455/455 [==============================] - 0s 42us/step - loss: 0.0692 - acc: 0.9890\n",
      "Epoch 45/100\n",
      "455/455 [==============================] - 0s 37us/step - loss: 0.0645 - acc: 0.9824\n",
      "Epoch 46/100\n",
      "455/455 [==============================] - 0s 39us/step - loss: 0.0676 - acc: 0.9890\n",
      "Epoch 47/100\n",
      "455/455 [==============================] - 0s 37us/step - loss: 0.0661 - acc: 0.9868\n",
      "Epoch 48/100\n",
      "455/455 [==============================] - 0s 33us/step - loss: 0.0628 - acc: 0.9868\n",
      "Epoch 49/100\n",
      "455/455 [==============================] - 0s 33us/step - loss: 0.0672 - acc: 0.9868\n",
      "Epoch 50/100\n",
      "455/455 [==============================] - 0s 28us/step - loss: 0.0682 - acc: 0.9846\n",
      "Epoch 51/100\n",
      "455/455 [==============================] - 0s 35us/step - loss: 0.0640 - acc: 0.9846\n",
      "Epoch 52/100\n",
      "455/455 [==============================] - 0s 33us/step - loss: 0.0625 - acc: 0.9868\n",
      "Epoch 53/100\n",
      "455/455 [==============================] - 0s 33us/step - loss: 0.0589 - acc: 0.9868\n",
      "Epoch 54/100\n",
      "455/455 [==============================] - 0s 33us/step - loss: 0.0630 - acc: 0.9868\n",
      "Epoch 55/100\n",
      "455/455 [==============================] - 0s 33us/step - loss: 0.0654 - acc: 0.9868\n",
      "Epoch 56/100\n",
      "455/455 [==============================] - 0s 28us/step - loss: 0.0588 - acc: 0.9868\n",
      "Epoch 57/100\n",
      "455/455 [==============================] - 0s 33us/step - loss: 0.0579 - acc: 0.9912\n",
      "Epoch 58/100\n",
      "455/455 [==============================] - 0s 33us/step - loss: 0.0571 - acc: 0.9890\n",
      "Epoch 59/100\n",
      "455/455 [==============================] - 0s 31us/step - loss: 0.0572 - acc: 0.9890\n",
      "Epoch 60/100\n",
      "455/455 [==============================] - 0s 33us/step - loss: 0.0549 - acc: 0.9890\n",
      "Epoch 61/100\n",
      "455/455 [==============================] - 0s 31us/step - loss: 0.0616 - acc: 0.9868\n",
      "Epoch 62/100\n",
      "455/455 [==============================] - 0s 33us/step - loss: 0.0605 - acc: 0.9890\n",
      "Epoch 63/100\n",
      "455/455 [==============================] - 0s 33us/step - loss: 0.0589 - acc: 0.9890\n",
      "Epoch 64/100\n",
      "455/455 [==============================] - 0s 31us/step - loss: 0.0565 - acc: 0.9890\n",
      "Epoch 65/100\n",
      "455/455 [==============================] - 0s 31us/step - loss: 0.0579 - acc: 0.9890\n",
      "Epoch 66/100\n",
      "455/455 [==============================] - 0s 35us/step - loss: 0.0549 - acc: 0.9890\n",
      "Epoch 67/100\n",
      "455/455 [==============================] - 0s 31us/step - loss: 0.0593 - acc: 0.9868\n",
      "Epoch 68/100\n",
      "455/455 [==============================] - 0s 33us/step - loss: 0.0557 - acc: 0.9912\n",
      "Epoch 69/100\n",
      "455/455 [==============================] - 0s 31us/step - loss: 0.0571 - acc: 0.9890\n",
      "Epoch 70/100\n",
      "455/455 [==============================] - 0s 31us/step - loss: 0.0532 - acc: 0.9890\n",
      "Epoch 71/100\n",
      "455/455 [==============================] - 0s 31us/step - loss: 0.0541 - acc: 0.9890\n",
      "Epoch 72/100\n",
      "455/455 [==============================] - 0s 33us/step - loss: 0.0514 - acc: 0.9912\n",
      "Epoch 73/100\n",
      "455/455 [==============================] - 0s 33us/step - loss: 0.0530 - acc: 0.9890\n",
      "Epoch 74/100\n",
      "455/455 [==============================] - 0s 33us/step - loss: 0.0561 - acc: 0.9890\n",
      "Epoch 75/100\n",
      "455/455 [==============================] - 0s 35us/step - loss: 0.0541 - acc: 0.9868\n",
      "Epoch 76/100\n",
      "455/455 [==============================] - 0s 35us/step - loss: 0.0517 - acc: 0.9890\n",
      "Epoch 77/100\n",
      "455/455 [==============================] - 0s 33us/step - loss: 0.0549 - acc: 0.9890\n",
      "Epoch 78/100\n",
      "455/455 [==============================] - 0s 33us/step - loss: 0.0538 - acc: 0.9890\n",
      "Epoch 79/100\n",
      "455/455 [==============================] - 0s 31us/step - loss: 0.0500 - acc: 0.9890\n",
      "Epoch 80/100\n",
      "455/455 [==============================] - 0s 31us/step - loss: 0.0489 - acc: 0.9890\n",
      "Epoch 81/100\n",
      "455/455 [==============================] - 0s 33us/step - loss: 0.0544 - acc: 0.9868\n",
      "Epoch 82/100\n",
      "455/455 [==============================] - 0s 31us/step - loss: 0.0494 - acc: 0.9912\n",
      "Epoch 83/100\n",
      "455/455 [==============================] - 0s 33us/step - loss: 0.0513 - acc: 0.9912\n",
      "Epoch 84/100\n"
     ]
    },
    {
     "name": "stdout",
     "output_type": "stream",
     "text": [
      "455/455 [==============================] - 0s 33us/step - loss: 0.0496 - acc: 0.9890\n",
      "Epoch 85/100\n",
      "455/455 [==============================] - 0s 31us/step - loss: 0.0487 - acc: 0.9912\n",
      "Epoch 86/100\n",
      "455/455 [==============================] - 0s 33us/step - loss: 0.0484 - acc: 0.9890\n",
      "Epoch 87/100\n",
      "455/455 [==============================] - 0s 31us/step - loss: 0.0496 - acc: 0.9890\n",
      "Epoch 88/100\n",
      "455/455 [==============================] - 0s 31us/step - loss: 0.0437 - acc: 0.9890\n",
      "Epoch 89/100\n",
      "455/455 [==============================] - 0s 31us/step - loss: 0.0472 - acc: 0.9890\n",
      "Epoch 90/100\n",
      "455/455 [==============================] - 0s 31us/step - loss: 0.0514 - acc: 0.9912\n",
      "Epoch 91/100\n",
      "455/455 [==============================] - 0s 33us/step - loss: 0.0484 - acc: 0.9890\n",
      "Epoch 92/100\n",
      "455/455 [==============================] - 0s 31us/step - loss: 0.0423 - acc: 0.9912\n",
      "Epoch 93/100\n",
      "455/455 [==============================] - 0s 31us/step - loss: 0.0450 - acc: 0.9890\n",
      "Epoch 94/100\n",
      "455/455 [==============================] - 0s 31us/step - loss: 0.0462 - acc: 0.9890\n",
      "Epoch 95/100\n",
      "455/455 [==============================] - 0s 31us/step - loss: 0.0491 - acc: 0.9890\n",
      "Epoch 96/100\n",
      "455/455 [==============================] - 0s 33us/step - loss: 0.0474 - acc: 0.9912\n",
      "Epoch 97/100\n",
      "455/455 [==============================] - 0s 33us/step - loss: 0.0479 - acc: 0.9890\n",
      "Epoch 98/100\n",
      "455/455 [==============================] - 0s 31us/step - loss: 0.0476 - acc: 0.9890\n",
      "Epoch 99/100\n",
      "455/455 [==============================] - 0s 33us/step - loss: 0.0482 - acc: 0.9890\n",
      "Epoch 100/100\n",
      "455/455 [==============================] - 0s 33us/step - loss: 0.0476 - acc: 0.9890\n"
     ]
    },
    {
     "data": {
      "text/plain": [
       "<keras.callbacks.History at 0x19a92277f28>"
      ]
     },
     "execution_count": 124,
     "metadata": {},
     "output_type": "execute_result"
    }
   ],
   "source": [
    "classifier.fit(X_train,y_train,batch_size=100,epochs=100)"
   ]
  },
  {
   "cell_type": "markdown",
   "metadata": {},
   "source": [
    "# Predict Results(test)"
   ]
  },
  {
   "cell_type": "markdown",
   "metadata": {},
   "source": [
    "## Original Model"
   ]
  },
  {
   "cell_type": "code",
   "execution_count": 126,
   "metadata": {},
   "outputs": [
    {
     "name": "stdout",
     "output_type": "stream",
     "text": [
      "Our accuracy is 94.73684210526315%\n"
     ]
    },
    {
     "data": {
      "image/png": "[encoded data removed]",
      "text/plain": [
       "<Figure size 432x288 with 2 Axes>"
      ]
     },
     "metadata": {
      "needs_background": "light"
     },
     "output_type": "display_data"
    }
   ],
   "source": [
    "# Predicting the Test set results\n",
    "y_pred = classifier.predict(X_test)\n",
    "y_pred = (y_pred > 0.5)\n",
    "\n",
    "# Making the Confusion Matrix\n",
    "from sklearn.metrics import confusion_matrix\n",
    "cm_original = confusion_matrix(y_test, y_pred)\n",
    "\n",
    "print(\"Our accuracy is {}%\".format(((cm_original[0][0] + cm_original[1][1])/114)*100))\n",
    "\n",
    "sns.heatmap(cm_original,annot=True)\n",
    "plt.savefig('original.png')"
   ]
  },
  {
   "cell_type": "markdown",
   "metadata": {},
   "source": [
    "# Optimization Preprocessing"
   ]
  },
  {
   "cell_type": "code",
   "execution_count": 102,
   "metadata": {},
   "outputs": [],
   "source": [
    "init_weights = classifier.get_weights()"
   ]
  },
  {
   "cell_type": "code",
   "execution_count": 103,
   "metadata": {},
   "outputs": [],
   "source": [
    "def FlattenWeights(weights):\n",
    "        \"\"\"\n",
    "        flatten weights\n",
    "        \n",
    "        param weights: keras神經網路的權重格式:nparray包在list中\n",
    "        return WeightsStrucure : 神經網路各層的權重shape包在list中，unflatten時會用到\n",
    "        return FlattenedWeights : 一維list包含所有的權重\n",
    "        \"\"\"\n",
    "        WeightsStrucure = []\n",
    "        FlattenedWeights = []\n",
    "        for i_layer in weights:\n",
    "            WeightsStrucure.append(i_layer.shape)\n",
    "            if len(i_layer.shape) == 1 :# 該層權重的shape為一維 e.g. (15,)      \n",
    "                FlattenedWeights.extend(i_layer)\n",
    "            else :# 該層權重的shape為二維 e.g. (30, 15)  \n",
    "                for i_links in i_layer:\n",
    "                    FlattenedWeights.extend(i_links)\n",
    "        return WeightsStrucure, FlattenedWeights\n",
    "\n",
    "def UnflattenWeights(WeightsStrucure, ModifiedWeights):\n",
    "    \"\"\"\n",
    "    Unflatten(回復成原本的結構) weights  \n",
    "\n",
    "    param WeightsStrucure : 神經網路各層的權重shape包在list中\n",
    "    param ModifiedWeights : 一維list包含所有meteHeuristic修改過的權重\n",
    "    return: keras神經網路的權重格式:nparray包在list中\n",
    "    \"\"\"\n",
    "    UnflattenWeights = []\n",
    "    i_index = 0 \n",
    "    for i_layer in WeightsStrucure:\n",
    "        if len(i_layer) == 1 : # 該層權重的shape為一維 e.g. (15,)      \n",
    "            TempList = ModifiedWeights[i_index:(i_index + i_layer[0])]\n",
    "            TempList = np.asarray(TempList)\n",
    "            i_index = i_index + i_layer[0]\n",
    "        else : # 該層權重的shape為二維 e.g. (30, 15)  \n",
    "            TempList = ModifiedWeights[i_index:(i_index + (i_layer[0]*i_layer[1]))]\n",
    "            TempList = np.reshape(TempList, i_layer )\n",
    "            i_index = i_index + (i_layer[0]*i_layer[1])\n",
    "        UnflattenWeights.append(TempList)\n",
    "    return UnflattenWeights    \n",
    "\n",
    "def score(X_train= X_train,y_train = y_train ,Model = None):\n",
    "    # Predicting the Test set results\n",
    "    y_pred = classifier.predict(X_test)\n",
    "    y_pred = (y_pred > 0.5)\n",
    "    # Making the Confusion Matrix\n",
    "    from sklearn.metrics import confusion_matrix\n",
    "    cm = confusion_matrix(y_test, y_pred)\n",
    "    mis_classification = 1 - ((cm[0][0] + cm[1][1])/114)\n",
    "    return mis_classification"
   ]
  },
  {
   "cell_type": "markdown",
   "metadata": {},
   "source": [
    "# SA Optimization"
   ]
  },
  {
   "cell_type": "code",
   "execution_count": 127,
   "metadata": {},
   "outputs": [],
   "source": [
    "import numpy as np\n",
    "import matplotlib.pyplot as plt\n",
    "from matplotlib import pyplot as plt"
   ]
  },
  {
   "cell_type": "code",
   "execution_count": 128,
   "metadata": {},
   "outputs": [],
   "source": [
    "init_model = classifier # 保存舊模型\n",
    "structure, weights =FlattenWeights(init_weights) # 拉平初始權重"
   ]
  },
  {
   "cell_type": "code",
   "execution_count": 129,
   "metadata": {},
   "outputs": [],
   "source": [
    "def Optimize_SA(model = None , score = None , initT = 1000, minT = 1 , iterL = 5000 , delta = 0.95, k = 1, init_weights = None, structure = None):\n",
    "    old_score = score(model)\n",
    "    nowt = initT \n",
    "    # start SA!\n",
    "    while nowt > minT:\n",
    "        for i in range(iterL):\n",
    "            # 初始舊權重計算分數\n",
    "            # 製作新的權重\n",
    "            xnew = init_weights + (np.random.rand(len(init_weights)) - 0.5)\n",
    "            process_weights = UnflattenWeights(structure, xnew )\n",
    "            model.set_weights(process_weights)\n",
    "            new_score = score(model)\n",
    "            # 計算分數差異\n",
    "            res = new_score - old_score\n",
    "            if res < 0:\n",
    "                init_weights = xnew\n",
    "                old_score = new_score\n",
    "            else:\n",
    "                p = np.exp(-res / (k * nowt))\n",
    "                if np.random.rand() < p:\n",
    "                    init_weights = xnew\n",
    "                    old_score = new_score\n",
    "                else:\n",
    "                    pass\n",
    "            nowt = nowt * delta\n",
    "    return model\n",
    "\n",
    "SA_Model = Optimize_SA(model = classifier, score = score, init_weights= weights, structure= structure)"
   ]
  },
  {
   "cell_type": "code",
   "execution_count": 130,
   "metadata": {},
   "outputs": [],
   "source": [
    "SA_Model = Optimize_SA(model = classifier, score = score, init_weights= weights, structure= structure)"
   ]
  },
  {
   "cell_type": "markdown",
   "metadata": {},
   "source": [
    "# Predict Results(test)"
   ]
  },
  {
   "cell_type": "markdown",
   "metadata": {},
   "source": [
    "## SA Model"
   ]
  },
  {
   "cell_type": "code",
   "execution_count": 131,
   "metadata": {},
   "outputs": [
    {
     "name": "stdout",
     "output_type": "stream",
     "text": [
      "Our accuracy is 100.0%\n"
     ]
    },
    {
     "data": {
      "image/png": "[encoded data removed]",
      "text/plain": [
       "<Figure size 432x288 with 2 Axes>"
      ]
     },
     "metadata": {
      "needs_background": "light"
     },
     "output_type": "display_data"
    }
   ],
   "source": [
    "# Predicting the Test set results\n",
    "y_pred = SA_Model.predict(X_test)\n",
    "y_pred = (y_pred > 0.5)\n",
    "\n",
    "# Making the Confusion Matrix\n",
    "from sklearn.metrics import confusion_matrix\n",
    "cm = confusion_matrix(y_test, y_pred)\n",
    "\n",
    "print(\"Our accuracy is {}%\".format(((cm[0][0] + cm[1][1])/114)*100))\n",
    "\n",
    "sns.heatmap(cm,annot=True)\n",
    "plt.savefig('h.png')"
   ]
  },
  {
   "cell_type": "code",
   "execution_count": null,
   "metadata": {},
   "outputs": [],
   "source": []
  }
 ],
 "metadata": {
  "kernelspec": {
   "display_name": "Python 3",
   "language": "python",
   "name": "python3"
  },
  "language_info": {
   "codemirror_mode": {
    "name": "ipython",
    "version": 3
   },
   "file_extension": ".py",
   "mimetype": "text/x-python",
   "name": "python",
   "nbconvert_exporter": "python",
   "pygments_lexer": "ipython3",
   "version": "3.6.4"
  }
 },
 "nbformat": 4,
 "nbformat_minor": 2
}
