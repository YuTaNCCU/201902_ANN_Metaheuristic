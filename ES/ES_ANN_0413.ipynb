{
  "nbformat": 4,
  "nbformat_minor": 0,
  "metadata": {
    "colab": {
      "name": "ES_ANN_0413",
      "version": "0.3.2",
      "provenance": [],
      "collapsed_sections": [],
      "include_colab_link": true
    },
    "kernelspec": {
      "name": "python3",
      "display_name": "Python 3"
    }
  },
  "cells": [
    {
      "cell_type": "markdown",
      "metadata": {
        "id": "view-in-github",
        "colab_type": "text"
      },
      "source": [
        "<a href=\"https://colab.research.google.com/github/YuTaNCCU/201902_ANN_Metaheuristic/blob/master/ES/ES_ANN_0413.ipynb\" target=\"_parent\"><img src=\"https://colab.research.google.com/assets/colab-badge.svg\" alt=\"Open In Colab\"/></a>"
      ]
    },
    {
      "metadata": {
        "colab_type": "text",
        "id": "JlwH6ajIzAuM"
      },
      "cell_type": "markdown",
      "source": [
        "# Load Package"
      ]
    },
    {
      "metadata": {
        "id": "Eu47m1CnUrM1",
        "colab_type": "code",
        "colab": {}
      },
      "cell_type": "code",
      "source": [
        "import random\n",
        "from string import ascii_lowercase\n",
        "from copy import deepcopy\n",
        "from abc import ABCMeta, abstractmethod\n",
        "from copy import deepcopy\n",
        "from collections import deque\n",
        "from numpy import argmax\n",
        "from keras import backend as K\n",
        "from keras.models import Sequential \n",
        "import numpy as np\n",
        "\n",
        "\n",
        "class ES:\n",
        "    \"\"\"\n",
        "    Conducts tabu search\n",
        "    \"\"\"\n",
        "    __metaclass__ = ABCMeta\n",
        "\n",
        "    #default hyper parameters\n",
        "    InitialSigma = None\n",
        "    ParentsSize = None\n",
        "    ChildSize = None\n",
        "    tao = None\n",
        "    \n",
        "    #for input/output\n",
        "    KerasModels = None\n",
        "    WeightsStrucure = None   \n",
        "    weights = None\n",
        "    \n",
        "    #for record\n",
        "    cur_steps = 1\n",
        "    best_weight = None\n",
        "    best_score = None\n",
        "    \n",
        "    def __init__(self, KerasModels, InitialSigma = 0.1, ParentsSize = 15, ChildSize = 100, tao = 0.5):\n",
        "        \"\"\"\n",
        "        :param KerasModels: a Keras model, like keras.engine.sequential.Sequential\n",
        "        :param weights: initial weights, should be a Keras model weight\n",
        "        :param max_steps: maximum number of steps to run algorithm for\n",
        "        \"\"\"\n",
        "        self.KerasModels = KerasModels\n",
        " \n",
        "        if all(isinstance(x, float) for x in [InitialSigma, tao]) and all(x > 0 for x in [InitialSigma, tao]):\n",
        "            self.InitialSigma = InitialSigma\n",
        "            self.tao = tao\n",
        "        else:\n",
        "            raise TypeError('InitialSigma & tao must be a positive float')\n",
        "            \n",
        "        if all(isinstance(x, int) for x in [ParentsSize, ChildSize]) and all(x > 0 for x in [ParentsSize, ChildSize]):\n",
        "            self.ParentsSize = ParentsSize\n",
        "            self.ChildSize = ChildSize\n",
        "        else:\n",
        "            raise TypeError('ParentsSize, ChildSize & max_steps must be a positive integer')\n",
        "\n",
        "    def __str__(self): \n",
        "        return ('ES: \\n' +\n",
        "                'CURRENT STEPS: %d \\n' +\n",
        "                'BEST MEMBER: \\n %s ......\\n' +\n",
        "                'BEST SCORE%f \\n') % \\\n",
        "               (self.cur_steps, str(self.best_weight)[:100], self.best_score)\n",
        "\n",
        "    def __repr__(self):\n",
        "        return self.__str__() \n",
        "    \n",
        "    def _FlattenWeights(self, weights):\n",
        "        \"\"\"\n",
        "        flatten weights\n",
        "        \n",
        "        param weights: keras神經網路的權重格式:nparray包在list中\n",
        "        return WeightsStrucure : 神經網路各層的權重shape包在list中，unflatten時會用到\n",
        "        return FlattenedWeights : 一維list包含所有的權重\n",
        "        \"\"\"\n",
        "        WeightsStrucure = []\n",
        "        FlattenedWeights = []\n",
        "        for i_layer in weights:\n",
        "            WeightsStrucure.append(i_layer.shape)\n",
        "            if len(i_layer.shape) == 1 :# 該層權重的shape為一維 e.g. (15,)      \n",
        "                FlattenedWeights.extend(i_layer)\n",
        "            else :# 該層權重的shape為二維 e.g. (30, 15)  \n",
        "                for i_links in i_layer:\n",
        "                    FlattenedWeights.extend(i_links)\n",
        "        return WeightsStrucure, FlattenedWeights\n",
        "\n",
        "    def _UnflattenWeights(self, WeightsStrucure, ModifiedWeights):\n",
        "        \"\"\"\n",
        "        Unflatten(回復成原本的結構) weights  \n",
        "        \n",
        "        param WeightsStrucure : 神經網路各層的權重shape包在list中\n",
        "        param ModifiedWeights : 一維list包含所有meteHeuristic修改過的權重\n",
        "        return: keras神經網路的權重格式:nparray包在list中\n",
        "        \"\"\"\n",
        "        UnflattenWeights = []\n",
        "        i_index = 0 \n",
        "        for i_layer in WeightsStrucure:\n",
        "            if len(i_layer) == 1 : # 該層權重的shape為一維 e.g. (15,)      \n",
        "                TempList = ModifiedWeights[i_index:(i_index + i_layer[0])]\n",
        "                TempList = np.asarray(TempList)\n",
        "                i_index = i_index + i_layer[0]\n",
        "            else : # 該層權重的shape為二維 e.g. (30, 15)  \n",
        "                TempList = ModifiedWeights[i_index:(i_index + (i_layer[0]*i_layer[1]))]\n",
        "                TempList = np.reshape(TempList, i_layer )\n",
        "                i_index = i_index + (i_layer[0]*i_layer[1])\n",
        "            UnflattenWeights.append(TempList)\n",
        "        return UnflattenWeights   \n",
        "    \n",
        "    def _best(self, Population_Child_score):\n",
        "        \"\"\"\n",
        "        Finds the best member of a neighborhood\n",
        "        :param Population_Child_score: a np array\n",
        "        :return: the indtex of N best member, N = ParentsSize\n",
        "        \"\"\"\n",
        "        return np.array( Population_Child_score ).argsort()[::-1][:self.ParentsSize]\n",
        "    \n",
        "    def _Recombination(self, Population_Parents_Weights, Population_Parents_Sigma, rows): #GenerateParents\n",
        "        \"\"\"\n",
        "        Generate New Parents Polulation\n",
        "        \"\"\"\n",
        "        Population_Weights_Recombination = np.zeros(shape = (rows, Population_Parents_Weights.shape[1]))\n",
        "        Population_Sigma_Recombination = np.zeros(shape = (rows, Population_Parents_Weights.shape[1]))\n",
        "        for index_row, _ in enumerate( Population_Weights_Recombination ):\n",
        "            \"\"\"\n",
        "            可能可以平行計算\n",
        "            \"\"\"\n",
        "            TwoRowschoiced = np.random.choice(Population_Parents_Weights.shape[0], size=2, replace=False,)\n",
        "            Parent1Mask = np.random.randint(2, size=Population_Parents_Weights.shape[1])\n",
        "            Parent2Mask = np.full(shape = Population_Parents_Weights.shape[1], fill_value = 1 )  - Parent1Mask\n",
        "            \n",
        "            Population_Weights_Recombination[index_row,:] = (Population_Parents_Weights[TwoRowschoiced] * [Parent1Mask, Parent2Mask]).sum(axis=0)\n",
        "            Population_Sigma_Recombination[index_row,:] = Population_Parents_Sigma[TwoRowschoiced].mean(axis=0)\n",
        "        return Population_Weights_Recombination, Population_Sigma_Recombination\n",
        "    \n",
        "    def _score(self, ModifiedWeights):\n",
        "        \n",
        "        \"\"\"\n",
        "        Returns objective function value of a state\n",
        "\n",
        "        :param state: a state\n",
        "        :return: objective function value of state\n",
        "        \"\"\"\n",
        "        \n",
        "        UnflattenedWeights = self._UnflattenWeights(WeightsStrucure = self.WeightsStrucure, ModifiedWeights = ModifiedWeights)\n",
        "        self.KerasModels.set_weights(UnflattenedWeights)\n",
        "        test_on_batch = self.KerasModels.test_on_batch(X_train, y_train, sample_weight=None) # return ['loss', 'acc']\n",
        "        return test_on_batch[1]\n",
        "\n",
        "    def run(self, weights, max_steps=5, verbose=10):\n",
        "        \"\"\"\n",
        "        Conducts ES\n",
        "        :param weights: \n",
        "        :param max_steps: \n",
        "        :param verbose: int which indicates how many iter to show score\n",
        "        :return: Keras Models, best state and objective function value of best state\n",
        "        \"\"\"\n",
        "        \n",
        "        if isinstance(weights, list)  :\n",
        "          \n",
        "            self.WeightsStrucure, self.weights = self._FlattenWeights(weights)\n",
        "            self.best_weight = self.weights\n",
        "            self.best_score = self._score(self.best_weight)\n",
        "        else:\n",
        "            raise TypeError('initial_state must be a list') \n",
        "            \n",
        "        self.max_steps = max_steps\n",
        "        \n",
        "        #Step1 initial             \n",
        "        Population_Parents_Weights = np.array([self.weights, self.weights])         \n",
        "        Population_Parents_Sigma = np.full(shape = (self.ParentsSize, len(self.weights)), fill_value = self.InitialSigma ) \n",
        "        Population_Parents_Weights, _ = self._Recombination(Population_Parents_Weights, Population_Parents_Sigma, rows = self.ParentsSize )\n",
        "        self.cur_steps = 1\n",
        "        while True:   \n",
        "            #Step2 Child\n",
        "            ##Discrete Recombination\n",
        "            Population_Child_Weights, Population_Child_Sigma = self._Recombination(Population_Parents_Weights, Population_Parents_Sigma, rows = self.ChildSize )\n",
        "            ##mutation1\n",
        "            RamdonNormalValue = np.random.normal(0, 1, 1)\n",
        "            RamdonNormalValueDifferent = np.random.normal(0, 1, Population_Child_Sigma.shape)\n",
        "            Population_Child_Sigma = np.exp( (1-self.tao)*RamdonNormalValue + self.tao*RamdonNormalValueDifferent )\n",
        "            ##mutation2\n",
        "            Population_Child_Weights = Population_Child_Weights + np.random.normal(0, Population_Child_Sigma, Population_Child_Sigma.shape)\n",
        "            \n",
        "            #step3 Evaluation\n",
        "            Population_Child_score = []\n",
        "            for i_Child in Population_Child_Weights :\n",
        "                \"\"\"\n",
        "                可能可以平行計算\n",
        "                \"\"\"\n",
        "                Population_Child_score.append( self._score(i_Child) )\n",
        "            BestNIndex = self._best(Population_Child_score)\n",
        "            Population_Parents_Weights = Population_Child_Weights[BestNIndex,:]\n",
        "            Population_Parents_Sigma = Population_Child_Sigma[BestNIndex,:]\n",
        "            \n",
        "            #更新best\n",
        "            best_weight_This_Iter =  Population_Child_Weights[BestNIndex,:][0]\n",
        "            best_score_This_Iter = self._score(Population_Child_Weights[BestNIndex,:][0])\n",
        "            if best_score_This_Iter > self.best_score:\n",
        "                self.best_weight =  Population_Child_Weights[BestNIndex,:][0]\n",
        "                self.best_score = self._score(Population_Child_Weights[BestNIndex,:][0])\n",
        "           \n",
        "            #step4 check stop criteria\n",
        "            if self.cur_steps > max_steps:\n",
        "                print( 'Stop: Reach max_steps' )\n",
        "                break\n",
        "            \n",
        "            #print process \n",
        "            if ((self.cur_steps ) % verbose == 0) and verbose:\n",
        "               print(self)\n",
        "               \n",
        "            self.cur_steps = self.cur_steps + 1\n",
        "        return self._UnflattenWeights(WeightsStrucure = self.WeightsStrucure, ModifiedWeights = self.best_weight), self.best_score \n"
      ],
      "execution_count": 0,
      "outputs": []
    },
    {
      "metadata": {
        "colab_type": "text",
        "id": "UR8bAYdozEEv"
      },
      "cell_type": "markdown",
      "source": [
        "# Load Data"
      ]
    },
    {
      "metadata": {
        "id": "dqQvjI11U0zb",
        "colab_type": "code",
        "outputId": "a1c5e840-e12b-42f3-c898-9b29a1a5ae99",
        "colab": {
          "base_uri": "https://localhost:8080/",
          "height": 54
        }
      },
      "cell_type": "code",
      "source": [
        "import pandas as pd\n",
        "import numpy as np\n",
        "import seaborn as sns\n",
        "import matplotlib.pyplot as plt\n",
        "from sklearn.datasets import load_breast_cancer\n",
        "\n",
        "#資料集是以dictionary的形式存在\n",
        "cancer = load_breast_cancer()\n",
        "df_feat = pd.DataFrame(cancer['data'],columns=cancer['feature_names'])\n",
        "\n",
        "X = df_feat.iloc[:, ].values\n",
        "y = cancer['target']\n",
        "\n",
        "# Encoding categorical data\n",
        "from sklearn.preprocessing import LabelEncoder\n",
        "labelencoder_X_1 = LabelEncoder()\n",
        "y = labelencoder_X_1.fit_transform(y)\n",
        "\n",
        "# Splitting the dataset into the Training set and Test set\n",
        "from sklearn.model_selection import train_test_split\n",
        "X_train, X_test, y_train, y_test = train_test_split(X, y, test_size = 0.2, random_state = 0)\n",
        "\n",
        "#Feature Scaling\n",
        "\"\"\"from sklearn.preprocessing import StandardScaler\n",
        "sc = StandardScaler()\n",
        "X_train = sc.fit_transform(X_train)\n",
        "X_test = sc.transform(X_test)\"\"\"\n",
        "\n",
        "#X_train.shape,X_test.shape,y_train.shape,y_test.shape"
      ],
      "execution_count": 2,
      "outputs": [
        {
          "output_type": "execute_result",
          "data": {
            "text/plain": [
              "'from sklearn.preprocessing import StandardScaler\\nsc = StandardScaler()\\nX_train = sc.fit_transform(X_train)\\nX_test = sc.transform(X_test)'"
            ]
          },
          "metadata": {
            "tags": []
          },
          "execution_count": 2
        }
      ]
    },
    {
      "metadata": {
        "colab_type": "text",
        "id": "LgjIusZlzDaT"
      },
      "cell_type": "markdown",
      "source": [
        "# Model Compile"
      ]
    },
    {
      "metadata": {
        "id": "IBrIxe5CU5Nz",
        "colab_type": "code",
        "outputId": "1632c55b-7ca3-487c-f095-aada8fb6c953",
        "colab": {
          "base_uri": "https://localhost:8080/",
          "height": 238
        }
      },
      "cell_type": "code",
      "source": [
        "from keras import backend as K\n",
        "from keras.layers import Dense\n",
        "from keras.models import Sequential, Model as keras_models_Model\n",
        "\n",
        "model = Sequential()\n",
        "model.add(Dense(10, activation='relu', input_shape=(30,)))\n",
        "#model.add(Dense(3, activation='relu'))\n",
        "model.add(Dense(3, activation='relu', name = 'IntermediateLayer'))\n",
        "model.add(Dense(1, activation='sigmoid'))\n",
        "\n",
        "model.compile(optimizer='adam', loss='binary_crossentropy', metrics=['accuracy'])\n",
        "model.summary()"
      ],
      "execution_count": 8,
      "outputs": [
        {
          "output_type": "stream",
          "text": [
            "_________________________________________________________________\n",
            "Layer (type)                 Output Shape              Param #   \n",
            "=================================================================\n",
            "dense_3 (Dense)              (None, 10)                310       \n",
            "_________________________________________________________________\n",
            "IntermediateLayer (Dense)    (None, 3)                 33        \n",
            "_________________________________________________________________\n",
            "dense_4 (Dense)              (None, 1)                 4         \n",
            "=================================================================\n",
            "Total params: 347\n",
            "Trainable params: 347\n",
            "Non-trainable params: 0\n",
            "_________________________________________________________________\n"
          ],
          "name": "stdout"
        }
      ]
    },
    {
      "metadata": {
        "id": "f5BM9m0lzRPv",
        "colab_type": "text"
      },
      "cell_type": "markdown",
      "source": [
        "# Initialize"
      ]
    },
    {
      "metadata": {
        "id": "R3ExSfXBU61J",
        "colab_type": "code",
        "outputId": "f6426ed7-dec6-47cc-da56-0f00b24b81b1",
        "colab": {
          "base_uri": "https://localhost:8080/",
          "height": 629
        }
      },
      "cell_type": "code",
      "source": [
        "\n",
        "weights = model.get_weights() \n",
        "#a=_FlattenWeights(weights)\n",
        "MyES = ES(model, InitialSigma = 0.1, ParentsSize = 15, ChildSize = 100, tao = 0.5)   \n",
        "ES_Optimized_Weights, ES_Optimized_ObjVal  = MyES.run(weights, max_steps=5, verbose = 1)"
      ],
      "execution_count": 4,
      "outputs": [
        {
          "output_type": "stream",
          "text": [
            "ES: \n",
            "CURRENT STEPS: 1 \n",
            "BEST MEMBER: \n",
            " [-3.89431480e-01  2.40068441e-01 -2.33282341e+00  5.61662770e+00\n",
            "  2.00720283e+00 -3.64790010e+00 -3 ......\n",
            "BEST SCORE0.861538 \n",
            "\n",
            "ES: \n",
            "CURRENT STEPS: 2 \n",
            "BEST MEMBER: \n",
            " [-3.89431480e-01  2.40068441e-01 -2.33282341e+00  5.61662770e+00\n",
            "  2.00720283e+00 -3.64790010e+00 -3 ......\n",
            "BEST SCORE0.861538 \n",
            "\n",
            "ES: \n",
            "CURRENT STEPS: 3 \n",
            "BEST MEMBER: \n",
            " [-3.89431480e-01  2.40068441e-01 -2.33282341e+00  5.61662770e+00\n",
            "  2.00720283e+00 -3.64790010e+00 -3 ......\n",
            "BEST SCORE0.861538 \n",
            "\n",
            "ES: \n",
            "CURRENT STEPS: 4 \n",
            "BEST MEMBER: \n",
            " [-3.89431480e-01  2.40068441e-01 -2.33282341e+00  5.61662770e+00\n",
            "  2.00720283e+00 -3.64790010e+00 -3 ......\n",
            "BEST SCORE0.861538 \n",
            "\n",
            "ES: \n",
            "CURRENT STEPS: 5 \n",
            "BEST MEMBER: \n",
            " [-3.81060127e+00  1.27389825e+00  2.11697893e+00 -5.69899309e+00\n",
            "  5.23015233e+00 -3.48286970e+00  5 ......\n",
            "BEST SCORE0.890110 \n",
            "\n",
            "Stop: Reach max_steps\n"
          ],
          "name": "stdout"
        }
      ]
    },
    {
      "metadata": {
        "id": "ULIddEh0zWGU",
        "colab_type": "text"
      },
      "cell_type": "markdown",
      "source": [
        "# Main"
      ]
    },
    {
      "metadata": {
        "id": "zE_V_96FU9yy",
        "colab_type": "code",
        "outputId": "0104a0a1-9a9e-42d6-fdd7-3bf6a96934ec",
        "colab": {
          "base_uri": "https://localhost:8080/",
          "height": 1448
        }
      },
      "cell_type": "code",
      "source": [
        "# gradient-based optimize\n",
        "model.set_weights(ES_Optimized_Weights)\n",
        "model.fit(X_train, y_train, epochs=5, batch_size=32)\n",
        "weights = model.get_weights() \n",
        "\n",
        "# ES\n",
        "ES_Optimized_Weights, ES_Optimized_ObjVal  = MyES.run(weights, max_steps=10, verbose = 1)"
      ],
      "execution_count": 5,
      "outputs": [
        {
          "output_type": "stream",
          "text": [
            "WARNING:tensorflow:From /usr/local/lib/python3.6/dist-packages/tensorflow/python/ops/math_ops.py:3066: to_int32 (from tensorflow.python.ops.math_ops) is deprecated and will be removed in a future version.\n",
            "Instructions for updating:\n",
            "Use tf.cast instead.\n",
            "Epoch 1/5\n",
            "455/455 [==============================] - 0s 578us/step - loss: 0.6157 - acc: 0.8923\n",
            "Epoch 2/5\n",
            "455/455 [==============================] - 0s 48us/step - loss: 0.6138 - acc: 0.8923\n",
            "Epoch 3/5\n",
            "455/455 [==============================] - 0s 46us/step - loss: 0.6129 - acc: 0.8923\n",
            "Epoch 4/5\n",
            "455/455 [==============================] - 0s 46us/step - loss: 0.6120 - acc: 0.8923\n",
            "Epoch 5/5\n",
            "455/455 [==============================] - 0s 45us/step - loss: 0.6110 - acc: 0.8923\n",
            "ES: \n",
            "CURRENT STEPS: 1 \n",
            "BEST MEMBER: \n",
            " [-3.8050463, 1.2683436, 2.116979, -5.70455, 5.2357087, -3.488425, 5.2477236, -2.6602743, 0.5050497,  ......\n",
            "BEST SCORE0.892308 \n",
            "\n",
            "ES: \n",
            "CURRENT STEPS: 2 \n",
            "BEST MEMBER: \n",
            " [-4.62857678e+00  1.02069395e+00  2.76731144e+00 -8.97253966e+00\n",
            "  5.34788375e+00  4.96206154e-01  3 ......\n",
            "BEST SCORE0.901099 \n",
            "\n",
            "ES: \n",
            "CURRENT STEPS: 3 \n",
            "BEST MEMBER: \n",
            " [-4.81093381e+00  7.72393022e+00  2.16234740e+00 -5.71269837e+00\n",
            "  4.82623451e+00  7.32845350e-01  4 ......\n",
            "BEST SCORE0.903297 \n",
            "\n",
            "ES: \n",
            "CURRENT STEPS: 4 \n",
            "BEST MEMBER: \n",
            " [-6.41102699e+00  1.35703171e+00  7.09510084e-01 -7.38550479e+00\n",
            "  4.42368305e+00 -3.34805188e-01  2 ......\n",
            "BEST SCORE0.905495 \n",
            "\n",
            "ES: \n",
            "CURRENT STEPS: 5 \n",
            "BEST MEMBER: \n",
            " [-6.41102699e+00  1.35703171e+00  7.09510084e-01 -7.38550479e+00\n",
            "  4.42368305e+00 -3.34805188e-01  2 ......\n",
            "BEST SCORE0.905495 \n",
            "\n",
            "ES: \n",
            "CURRENT STEPS: 6 \n",
            "BEST MEMBER: \n",
            " [-3.72698045e+00  3.71933422e+00  1.20255959e+01 -3.92198336e+00\n",
            "  2.36863076e+00 -5.56271632e+00  8 ......\n",
            "BEST SCORE0.907692 \n",
            "\n",
            "ES: \n",
            "CURRENT STEPS: 7 \n",
            "BEST MEMBER: \n",
            " [-5.91979814e+00  6.52778288e+00 -1.20385271e+00 -2.82195959e+00\n",
            "  3.56931088e+00  4.75802941e+00  5 ......\n",
            "BEST SCORE0.912088 \n",
            "\n",
            "ES: \n",
            "CURRENT STEPS: 8 \n",
            "BEST MEMBER: \n",
            " [-5.91979814e+00  6.52778288e+00 -1.20385271e+00 -2.82195959e+00\n",
            "  3.56931088e+00  4.75802941e+00  5 ......\n",
            "BEST SCORE0.912088 \n",
            "\n",
            "ES: \n",
            "CURRENT STEPS: 9 \n",
            "BEST MEMBER: \n",
            " [-5.91979814e+00  6.52778288e+00 -1.20385271e+00 -2.82195959e+00\n",
            "  3.56931088e+00  4.75802941e+00  5 ......\n",
            "BEST SCORE0.912088 \n",
            "\n",
            "ES: \n",
            "CURRENT STEPS: 10 \n",
            "BEST MEMBER: \n",
            " [-5.91979814e+00  6.52778288e+00 -1.20385271e+00 -2.82195959e+00\n",
            "  3.56931088e+00  4.75802941e+00  5 ......\n",
            "BEST SCORE0.912088 \n",
            "\n",
            "Stop: Reach max_steps\n"
          ],
          "name": "stdout"
        }
      ]
    },
    {
      "metadata": {
        "id": "6IL__KOfVVQ7",
        "colab_type": "code",
        "colab": {}
      },
      "cell_type": "code",
      "source": [
        ""
      ],
      "execution_count": 0,
      "outputs": []
    }
  ]
}