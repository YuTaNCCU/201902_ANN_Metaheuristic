{
 "cells": [
  {
   "cell_type": "markdown",
   "metadata": {},
   "source": [
    "# Text Analysis with Deep Learning\n",
    "#### Word2Vec of Gensim\n",
    "##### prepared by Chao-Lin Liu\n",
    "實際執行 simple.word2vec.ipynb，觀察和比較設定不同 seed 的時候所得到的 word vectors 和 most_similar 詞彙"
   ]
  },
  {
   "cell_type": "code",
   "execution_count": 2,
   "metadata": {},
   "outputs": [],
   "source": [
    "import numpy as np\n",
    "import nltk\n",
    "import warnings\n",
    "warnings.filterwarnings(action='ignore', category=UserWarning, module='gensim')\n",
    "from gensim.models import Word2Vec"
   ]
  },
  {
   "cell_type": "code",
   "execution_count": 4,
   "metadata": {},
   "outputs": [],
   "source": [
    "from nltk.corpus import brown\n",
    "sentences = brown.sents()\n",
    "\"\"\"nltk.download('brown')\n",
    "sentences = nltk.brown.sents()\"\"\""
   ]
  },
  {
   "cell_type": "code",
   "execution_count": 5,
   "metadata": {},
   "outputs": [
    {
     "data": {
      "text/plain": [
       "57340"
      ]
     },
     "execution_count": 5,
     "metadata": {},
     "output_type": "execute_result"
    }
   ],
   "source": [
    "len(sentences)"
   ]
  },
  {
   "cell_type": "code",
   "execution_count": 6,
   "metadata": {},
   "outputs": [
    {
     "name": "stdout",
     "output_type": "stream",
     "text": [
      "['The', 'Fulton', 'County', 'Grand', 'Jury', 'said', 'Friday', 'an', 'investigation', 'of', \"Atlanta's\", 'recent', 'primary', 'election', 'produced', '``', 'no', 'evidence', \"''\", 'that', 'any', 'irregularities', 'took', 'place', '.']\n"
     ]
    }
   ],
   "source": [
    "print(sentences[0])"
   ]
  },
  {
   "cell_type": "markdown",
   "metadata": {},
   "source": [
    "# NO SEED "
   ]
  },
  {
   "cell_type": "code",
   "execution_count": 13,
   "metadata": {},
   "outputs": [
    {
     "name": "stdout",
     "output_type": "stream",
     "text": [
      "County\n"
     ]
    },
    {
     "data": {
      "text/plain": [
       "array([ 0.65429693, -0.07984881,  2.0935822 ,  0.24326402, -1.4334669 ,\n",
       "        0.6531443 , -0.23059085, -0.17957392,  0.430512  ,  0.2892541 ],\n",
       "      dtype=float32)"
      ]
     },
     "execution_count": 13,
     "metadata": {},
     "output_type": "execute_result"
    }
   ],
   "source": [
    "model = Word2Vec(sentences, size=10, window=5, min_count=5, workers=4)\n",
    "word = sentences[0][2]\n",
    "print(word)\n",
    "model.wv[word]"
   ]
  },
  {
   "cell_type": "code",
   "execution_count": 20,
   "metadata": {},
   "outputs": [
    {
     "name": "stdout",
     "output_type": "stream",
     "text": [
      "County\n"
     ]
    },
    {
     "data": {
      "text/plain": [
       "array([ 0.36342672, -0.14834179,  2.1629977 ,  0.18508191, -1.2519689 ,\n",
       "        0.7949608 , -0.42402762, -0.20449197,  0.5653986 ,  0.34473264],\n",
       "      dtype=float32)"
      ]
     },
     "execution_count": 20,
     "metadata": {},
     "output_type": "execute_result"
    }
   ],
   "source": [
    "model = Word2Vec(sentences, size=10, window=5, min_count=5, workers=4)\n",
    "word = sentences[0][2]\n",
    "print(word)\n",
    "model.wv[word]"
   ]
  },
  {
   "cell_type": "code",
   "execution_count": 21,
   "metadata": {},
   "outputs": [
    {
     "name": "stdout",
     "output_type": "stream",
     "text": [
      "County\n"
     ]
    },
    {
     "data": {
      "text/plain": [
       "array([ 0.36190233, -0.14801641,  2.1632452 ,  0.18438667, -1.251293  ,\n",
       "        0.7943459 , -0.42399263, -0.20529467,  0.5652424 ,  0.34495622],\n",
       "      dtype=float32)"
      ]
     },
     "execution_count": 21,
     "metadata": {},
     "output_type": "execute_result"
    }
   ],
   "source": [
    "model = Word2Vec(sentences, size=10, window=5, min_count=5, workers=4)\n",
    "word = sentences[0][2]\n",
    "print(word)\n",
    "model.wv[word]"
   ]
  },
  {
   "cell_type": "markdown",
   "metadata": {},
   "source": [
    "# SET SEED "
   ]
  },
  {
   "cell_type": "code",
   "execution_count": null,
   "metadata": {},
   "outputs": [],
   "source": [
    "def Seed10():\n",
    "    model = Word2Vec(sentences, size=10, window=5, min_count=5, seed=1, workers=4)\n",
    "    word = sentences[0][2]\n",
    "    print(model.wv[word])\n",
    "    print(model.wv.most_similar(positive=['king', 'woman'], negative=['man']))\n",
    "    print(model.wv.most_similar(positive='woman', topn=6))\n",
    "Seed10()\n",
    "Seed10()"
   ]
  },
  {
   "cell_type": "code",
   "execution_count": null,
   "metadata": {},
   "outputs": [],
   "source": [
    "def Seed100():\n",
    "    model = Word2Vec(sentences, size=100, window=5, min_count=5, seed=1, workers=4)\n",
    "    word = sentences[0][2]\n",
    "    print(model.wv[word])\n",
    "    print(model.wv.most_similar(positive=['king', 'woman'], negative=['man']))\n",
    "    print(model.wv.most_similar(positive='woman', topn=6))\n",
    "Seed100()\n",
    "Seed100()"
   ]
  },
  {
   "cell_type": "code",
   "execution_count": null,
   "metadata": {},
   "outputs": [],
   "source": []
  }
 ],
 "metadata": {
  "kernelspec": {
   "display_name": "Python 3",
   "language": "python",
   "name": "python3"
  },
  "language_info": {
   "codemirror_mode": {
    "name": "ipython",
    "version": 3
   },
   "file_extension": ".py",
   "mimetype": "text/x-python",
   "name": "python",
   "nbconvert_exporter": "python",
   "pygments_lexer": "ipython3",
   "version": "3.7.3"
  }
 },
 "nbformat": 4,
 "nbformat_minor": 2
}
