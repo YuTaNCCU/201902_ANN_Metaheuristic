{
 "cells": [
  {
   "cell_type": "code",
   "execution_count": null,
   "metadata": {},
   "outputs": [],
   "source": [
    "# -*- coding: utf-8 -*-\n",
    "# 斷詞工作\n",
    "import jieba\n",
    "cstr = \"蘋果執行長庫克日前赴中國大陸訪問，這是庫克第8次訪問大陸\""
   ]
  },
  {
   "cell_type": "code",
   "execution_count": null,
   "metadata": {},
   "outputs": [],
   "source": [
    "lw = jieba.lcut(cstr)"
   ]
  },
  {
   "cell_type": "code",
   "execution_count": null,
   "metadata": {},
   "outputs": [],
   "source": [
    "print (lw)"
   ]
  },
  {
   "cell_type": "code",
   "execution_count": null,
   "metadata": {},
   "outputs": [],
   "source": [
    "# 計算詞彙的頻率 ：詞頻\n",
    "from collections import Counter\n",
    "counter = Counter()"
   ]
  },
  {
   "cell_type": "code",
   "metadata": {},
   "outputs": [],
   "source": [
    "counter.update(lw)"
   ]
  },
  {
   "cell_type": "code",
   "execution_count": null,
   "metadata": {},
   "outputs": [],
   "source": [
    "counter"
   ]
  },
  {
   "cell_type": "markdown",
   "metadata": {},
   "source": [
    "#### 能夠計算個別詞彙在個別檔案的頻率，我們就得到定義 term frequence (TF) 的基礎\n",
    "#### document frequence (DF) 是詞彙出現在不同篇文件的次數，因此能夠計算詞彙在文件中的頻率，自然也能夠計算 DF\n",
    "#### 有了 DF ，我們就可以定義 inverse document frequency (IDF)\n",
    "#### AI Cup 團隊的投影片，以 TF 和 IDF 的乘積來計算個別詞彙貢獻到個別檔案的分數\n",
    "#### 參考AI Cup 的技術投影片：https://ppt.cc/fOKdMx"
   ]
  },
  {
   "cell_type": "code",
   "execution_count": null,
   "metadata": {},
   "outputs": [],
   "source": [
    "# 載入和檢視 AI Cup 團隊幫大建立的 TF-IDF 大表格\n",
    "# load inverted file\n",
    "# 注意：你必須把 AI Cup 團隊所提供的 inverted_file.json 放在與這一個 ipynb 檔案的同一個資料夾\n",
    "#       否則你就必須修改檔案的路徑\n",
    "import json\n",
    "with open('./inverted_file.json',\"r\", encoding='utf-8') as f:\n",
    "\tinvert_file = json.load(f)\n"
   ]
  },
  {
   "cell_type": "code",
   "execution_count": null,
   "metadata": {},
   "outputs": [],
   "source": [
    "# 查閱 \"反對\" 的資料\n",
    "print(invert_file[\"反對\"])"
   ]
  },
  {
   "cell_type": "code",
   "execution_count": null,
   "metadata": {},
   "outputs": [],
   "source": [
    "# \"反對\" 的 IDF\n",
    "print(invert_file[\"反對\"][\"idf\"])"
   ]
  },
  {
   "cell_type": "code",
   "execution_count": null,
   "metadata": {},
   "outputs": [],
   "source": [
    "# 這一個指令列印所有用到 \"反對\" 的報導的文件編號和詞頻；\n",
    "# 因為有1000000篇文件，所以你會看到很大量的資料\n",
    "print(invert_file[\"反對\"][\"docs\"])"
   ]
  },
  {
   "cell_type": "code",
   "execution_count": null,
   "metadata": {},
   "outputs": [],
   "source": [
    "# 如果只看前面五筆資料的話，會比較務實一些\n",
    "print(invert_file[\"反對\"][\"docs\"][0:5])"
   ]
  },
  {
   "cell_type": "code",
   "execution_count": null,
   "metadata": {},
   "outputs": [],
   "source": [
    "print(invert_file[\"大埔\"][\"docs\"][0:5])"
   ]
  },
  {
   "cell_type": "code",
   "execution_count": null,
   "metadata": {},
   "outputs": [],
   "source": [
    "print(invert_file[\"水庫\"][\"docs\"][0:5])"
   ]
  },
  {
   "cell_type": "markdown",
   "metadata": {},
   "source": [
    "#### 以下是一個小習題\n",
    "#### 找到 \"同意動物實驗\"的文章，然後計算它們的 TFIDF\n",
    "#### 以下的指令，只是完成以上這一個工作的局部指令，剩下的可以讓大家當作練習"
   ]
  },
  {
   "cell_type": "code",
   "execution_count": null,
   "metadata": {},
   "outputs": [],
   "source": [
    "# 參考 QS_1.csv 的 q_18\n",
    "query = \"同意動物實驗\"\n",
    "query_words = jieba.lcut(query)\n",
    "query_words"
   ]
  },
  {
   "cell_type": "code",
   "execution_count": null,
   "metadata": {},
   "outputs": [],
   "source": [
    "#這一些文件有 \"同意\"\n",
    "agree = [key  for item in invert_file[\"同意\"][\"docs\"] for key in item]"
   ]
  },
  {
   "cell_type": "code",
   "execution_count": null,
   "metadata": {},
   "outputs": [],
   "source": [
    "animal = [key for item in invert_file[\"動物\"][\"docs\"] for key in item]"
   ]
  },
  {
   "cell_type": "code",
   "execution_count": null,
   "metadata": {},
   "outputs": [],
   "source": [
    "experiment = [key for item in invert_file[\"實驗\"][\"docs\"] for key in item]"
   ]
  },
  {
   "cell_type": "code",
   "execution_count": null,
   "metadata": {},
   "outputs": [],
   "source": [
    "#這一些文件有 \"同意\"、\"動物\"、\"實驗\"\n",
    "agree_animal_experiment = list(set(agree) & set(animal) & set(experiment))\n",
    "agree_animal_experiment"
   ]
  },
  {
   "cell_type": "code",
   "execution_count": null,
   "metadata": {},
   "outputs": [],
   "source": [
    "for document_count_dict in invert_file[\"同意\"]['docs']:\n",
    "    for doc, doc_tf in document_count_dict.items():\n",
    "        if doc in agree_animal_experiment:\n",
    "            print(doc,\": IDF\",invert_file[\"同意\"][\"idf\"], \", TF: \", doc_tf)"
   ]
  },
  {
   "cell_type": "code",
   "execution_count": null,
   "metadata": {},
   "outputs": [],
   "source": [
    "for document_count_dict in invert_file[\"動物\"]['docs']:\n",
    "    for doc, doc_tf in document_count_dict.items():\n",
    "        if doc in agree_animal_experiment:\n",
    "            print(doc,\": IDF\",invert_file[\"動物\"][\"idf\"], \", TF: \", doc_tf)"
   ]
  },
  {
   "cell_type": "code",
   "execution_count": null,
   "metadata": {},
   "outputs": [],
   "source": [
    "for document_count_dict in invert_file[\"實驗\"]['docs']:\n",
    "    for doc, doc_tf in document_count_dict.items():\n",
    "        if doc in agree_animal_experiment:\n",
    "            print(doc,\": IDF\",invert_file[\"實驗\"][\"idf\"], \", TF: \", doc_tf)"
   ]
  },
  {
   "cell_type": "code",
   "execution_count": null,
   "metadata": {},
   "outputs": [],
   "source": [
    "# 參考 AI Cup 的技術投影片的說明，計算各篇有 \"同意\"、\"動物\"、\"實驗\" 的分數，並且將這一些文件排序"
   ]
  }
 ],
 "metadata": {
  "kernelspec": {
   "display_name": "Python 3",
   "language": "python",
   "name": "python3"
  },
  "language_info": {
   "codemirror_mode": {
    "name": "ipython",
    "version": 3
   },
   "file_extension": ".py",
   "mimetype": "text/x-python",
   "name": "python",
   "nbconvert_exporter": "python",
   "pygments_lexer": "ipython3",
   "version": "3.6.5"
  }
 },
 "nbformat": 4,
 "nbformat_minor": 2
}
