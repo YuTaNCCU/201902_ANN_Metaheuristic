{
 "cells": [
  {
   "cell_type": "markdown",
   "metadata": {},
   "source": [
    "### Text Analysis with Deep Learning\n",
    "#### Visualizing word vectors\n",
    "##### prepared by Chao-Lin Liu\n",
    "##### reference: https://machinelearningmastery.com/develop-word-embeddings-python-gensim/\n",
    "實際執行 pca.brown.corpus.ipynb，嘗試用一些你自己選擇的詞彙，看看你覺得類似(或者相關)的詞彙，是否距離很近？"
   ]
  },
  {
   "cell_type": "code",
   "execution_count": 1,
   "metadata": {},
   "outputs": [],
   "source": [
    "%matplotlib inline\n",
    "from nltk.corpus import brown\n",
    "sentences = brown.sents()\n",
    "\"\"\"nltk.download('brown')\n",
    "sentences = nltk.brown.sents()\"\"\""
   ]
  },
  {
   "cell_type": "code",
   "execution_count": 2,
   "metadata": {},
   "outputs": [
    {
     "name": "stderr",
     "output_type": "stream",
     "text": [
      "C:\\ProgramData\\Anaconda3\\lib\\site-packages\\gensim\\utils.py:1197: UserWarning: detected Windows; aliasing chunkize to chunkize_serial\n",
      "  warnings.warn(\"detected Windows; aliasing chunkize to chunkize_serial\")\n",
      "C:\\ProgramData\\Anaconda3\\lib\\site-packages\\ipykernel_launcher.py:13: DeprecationWarning: Call to deprecated `__getitem__` (Method will be removed in 4.0.0, use self.wv.__getitem__() instead).\n",
      "  del sys.path[0]\n"
     ]
    },
    {
     "data": {
      "text/plain": [
       "<matplotlib.collections.PathCollection at 0x13c9a828>"
      ]
     },
     "execution_count": 2,
     "metadata": {},
     "output_type": "execute_result"
    },
    {
     "data": {
      "image/png": "[encoded data removed]",
      "text/plain": [
       "<Figure size 432x288 with 1 Axes>"
      ]
     },
     "metadata": {
      "needs_background": "light"
     },
     "output_type": "display_data"
    }
   ],
   "source": [
    "from gensim.models import Word2Vec\n",
    "from sklearn.decomposition import PCA\n",
    "from matplotlib import pyplot\n",
    "# define training data\n",
    "#sentences = [['this', 'is', 'the', 'first', 'sentence', 'for', 'word2vec'],\n",
    "#\t\t\t['this', 'is', 'the', 'second', 'sentence'],\n",
    "#\t\t\t['yet', 'another', 'sentence'],\n",
    "#\t\t\t['one', 'more', 'sentence'],\n",
    "#\t\t\t['and', 'the', 'final', 'sentence']]\n",
    "# train model\n",
    "model = Word2Vec(sentences, min_count=1, window=5, size=100)\n",
    "# fit a 2d PCA model to the vectors\n",
    "X = model[model.wv.vocab]\n",
    "pca = PCA(n_components=2)\n",
    "result = pca.fit_transform(X)\n",
    "# create a scatter plot of the projection\n",
    "pyplot.scatter(result[:, 0], result[:, 1])"
   ]
  },
  {
   "cell_type": "markdown",
   "metadata": {},
   "source": [
    "# SET SEED "
   ]
  },
  {
   "cell_type": "code",
   "execution_count": 13,
   "metadata": {},
   "outputs": [
    {
     "name": "stdout",
     "output_type": "stream",
     "text": [
      "steak: (0.03799678, 0.0010924566)\n",
      "orange: (0.5269252, -0.37497285)\n",
      "beef: (1.4094515, -0.5151836)\n",
      "pork: (0.317973, -0.07618025)\n",
      "pineapple: (0.43715438, -0.16488141)\n",
      "apple: (0.110556826, -0.015127384)\n",
      "watermelon: (-0.33003864, 0.060993582)\n"
     ]
    },
    {
     "data": {
      "image/png": "[encoded data removed]",
      "text/plain": [
       "<Figure size 504x504 with 1 Axes>"
      ]
     },
     "metadata": {
      "needs_background": "light"
     },
     "output_type": "display_data"
    }
   ],
   "source": [
    "words = list(model.wv.vocab)\n",
    "pyplot.figure(figsize=(7,7))\n",
    "pyplot.axis([-1,6,-2,1])\n",
    "wordlist = ['apple', 'orange', 'pineapple', 'watermelon',  'beef', 'steak', 'pork']\n",
    "#wordlist = ['apple', 'orange', 'pineapple', 'watermelon', 'beef', 'steak', 'pork', 'chicken', 'lamb', 'doctor', 'nurse', 'apply', 'succeed', 'men', 'women', 'king', 'queen']\n",
    "#wordlist = ['apple', 'orange', 'pineapple', 'banana', 'watermelon', 'doctor', 'driver', 'student', 'teacher','manager', 'security', 'judge', 'secretary', 'assistant', 'police', 'criminal', 'president', 'sunshine', 'moonlight']\n",
    "#wordlist = ['sunshine', 'moonlight', 'sun', 'moon', 'star', 'earth']\n",
    "#wordlist = ['river', 'ocean', 'sea', 'creek', 'rock', 'pebble', 'stone']\n",
    "#wordlist = ['work','study','write','read','sing', 'speak', 'listen']\n",
    "#wordlist = ['beautiful','ugly','angry','mad','annoying', 'irritating', 'lovely', 'red', 'black', 'glue', 'green', 'white', 'brown', 'pink', 'yellow', 'purple', 'gray']\n",
    "for i, word in enumerate(words):\n",
    "\tif word in wordlist:\n",
    "\t\tprint(word+\": (\"+str(result[i,0])+\", \"+str(result[i,1])+\")\")\n",
    "\t\tpyplot.annotate(word, xy=(result[i, 0], result[i, 1]))\n",
    "pyplot.show()"
   ]
  },
  {
   "cell_type": "code",
   "execution_count": null,
   "metadata": {},
   "outputs": [],
   "source": [
    "model = Word2Vec(sentences, min_count=1, window=5, seed=1, size=100)\n",
    "words = list(model.wv.vocab)\n",
    "pyplot.figure(figsize=(7,7))\n",
    "pyplot.axis([-1,6,-2,1])\n",
    "wordlist = ['apple', 'orange', 'pineapple', 'watermelon',  'beef', 'steak', 'pork']\n",
    "#wordlist = ['apple', 'orange', 'pineapple', 'watermelon', 'beef', 'steak', 'pork', 'chicken', 'lamb', 'doctor', 'nurse', 'apply', 'succeed', 'men', 'women', 'king', 'queen']\n",
    "#wordlist = ['apple', 'orange', 'pineapple', 'banana', 'watermelon', 'doctor', 'driver', 'student', 'teacher','manager', 'security', 'judge', 'secretary', 'assistant', 'police', 'criminal', 'president', 'sunshine', 'moonlight']\n",
    "#wordlist = ['sunshine', 'moonlight', 'sun', 'moon', 'star', 'earth']\n",
    "#wordlist = ['river', 'ocean', 'sea', 'creek', 'rock', 'pebble', 'stone']\n",
    "#wordlist = ['work','study','write','read','sing', 'speak', 'listen']\n",
    "#wordlist = ['beautiful','ugly','angry','mad','annoying', 'irritating', 'lovely', 'red', 'black', 'glue', 'green', 'white', 'brown', 'pink', 'yellow', 'purple', 'gray']\n",
    "for i, word in enumerate(words):\n",
    "\tif word in wordlist:\n",
    "\t\tprint(word+\": (\"+str(result[i,0])+\", \"+str(result[i,1])+\")\")\n",
    "\t\tpyplot.annotate(word, xy=(result[i, 0], result[i, 1]))\n",
    "pyplot.show()"
   ]
  },
  {
   "cell_type": "code",
   "execution_count": null,
   "metadata": {},
   "outputs": [],
   "source": [
    "model = Word2Vec(sentences, min_count=1, window=5, seed=111, size=100)\n",
    "words = list(model.wv.vocab)\n",
    "pyplot.figure(figsize=(7,7))\n",
    "pyplot.axis([-1,6,-2,1])\n",
    "wordlist = ['apple', 'orange', 'pineapple', 'watermelon',  'beef', 'steak', 'pork']\n",
    "#wordlist = ['apple', 'orange', 'pineapple', 'watermelon', 'beef', 'steak', 'pork', 'chicken', 'lamb', 'doctor', 'nurse', 'apply', 'succeed', 'men', 'women', 'king', 'queen']\n",
    "#wordlist = ['apple', 'orange', 'pineapple', 'banana', 'watermelon', 'doctor', 'driver', 'student', 'teacher','manager', 'security', 'judge', 'secretary', 'assistant', 'police', 'criminal', 'president', 'sunshine', 'moonlight']\n",
    "#wordlist = ['sunshine', 'moonlight', 'sun', 'moon', 'star', 'earth']\n",
    "#wordlist = ['river', 'ocean', 'sea', 'creek', 'rock', 'pebble', 'stone']\n",
    "#wordlist = ['work','study','write','read','sing', 'speak', 'listen']\n",
    "#wordlist = ['beautiful','ugly','angry','mad','annoying', 'irritating', 'lovely', 'red', 'black', 'glue', 'green', 'white', 'brown', 'pink', 'yellow', 'purple', 'gray']\n",
    "for i, word in enumerate(words):\n",
    "\tif word in wordlist:\n",
    "\t\tprint(word+\": (\"+str(result[i,0])+\", \"+str(result[i,1])+\")\")\n",
    "\t\tpyplot.annotate(word, xy=(result[i, 0], result[i, 1]))\n",
    "pyplot.show()"
   ]
  },
  {
   "cell_type": "code",
   "execution_count": null,
   "metadata": {},
   "outputs": [],
   "source": []
  }
 ],
 "metadata": {
  "kernelspec": {
   "display_name": "Python 3",
   "language": "python",
   "name": "python3"
  },
  "language_info": {
   "codemirror_mode": {
    "name": "ipython",
    "version": 3
   },
   "file_extension": ".py",
   "mimetype": "text/x-python",
   "name": "python",
   "nbconvert_exporter": "python",
   "pygments_lexer": "ipython3",
   "version": "3.6.8"
  },
  "toc-autonumbering": false,
  "toc-showcode": true,
  "toc-showmarkdowntxt": false
 },
 "nbformat": 4,
 "nbformat_minor": 2
}
