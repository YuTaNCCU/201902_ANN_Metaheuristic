{
 "cells": [
  {
   "cell_type": "code",
   "execution_count": 1,
   "metadata": {},
   "outputs": [
    {
     "name": "stderr",
     "output_type": "stream",
     "text": [
      "C:\\ProgramData\\Anaconda3\\lib\\site-packages\\gensim\\utils.py:1197: UserWarning: detected Windows; aliasing chunkize to chunkize_serial\n",
      "  warnings.warn(\"detected Windows; aliasing chunkize to chunkize_serial\")\n"
     ]
    }
   ],
   "source": [
    "import gensim\n",
    "import pandas as pd\n",
    "import jieba\n",
    "import jieba.posseg as pseg\n",
    "from collections import defaultdict, Counter"
   ]
  },
  {
   "cell_type": "code",
   "execution_count": 2,
   "metadata": {},
   "outputs": [],
   "source": [
    "NC_excel = pd.read_excel(\"NC_1_All.xlsx\")\n",
    "NC_Content_List = NC_excel.News_Content.astype(str).tolist()\n",
    "NC_Content_List_Join = \"\".join(NC_Content_List)"
   ]
  },
  {
   "cell_type": "code",
   "execution_count": 3,
   "metadata": {},
   "outputs": [
    {
     "name": "stderr",
     "output_type": "stream",
     "text": [
      "Building prefix dict from the default dictionary ...\n",
      "Loading model from cache C:\\Users\\M05918\\AppData\\Local\\Temp\\jieba.cache\n",
      "Loading model cost 0.758 seconds.\n",
      "Prefix dict has been built succesfully.\n"
     ]
    }
   ],
   "source": [
    "documents = []\n",
    "for i in NC_Content_List:\n",
    "    documents.append((jieba.lcut(i)))"
   ]
  },
  {
   "cell_type": "code",
   "execution_count": 4,
   "metadata": {},
   "outputs": [
    {
     "name": "stdout",
     "output_type": "stream",
     "text": [
      "['新北市', '第二', '選區', '議員候', '選人', '陳', '明義', '，', '爭取', '連任', '失利', '，', '成', '了', '落', '選頭', '，', '他', '認為', '選', '前清', '潔工', '事件', '影片', '遭人', '變造', '、', '剪接', '，', '影響', '選務人員', '公平性', '，', '將', '部分', '屬', '於', '他', '的', '選票', '認定', '為', '無效票', '或', '其他', '候選人', '的', '票', '，', '上', '月', '向', '新北', '地院', '聲', '請', '全面', '驗票', '，', '並對', '吊車', '尾', '當選', '的', '陳', '文治', '提出', '當選無效', '之訴', '。', '新北', '地院', '表示', '，', '日前', '確實', '收到', '陳', '明義的', '相關聲', '請', '，', '最快', '在', '今日', '就會', '分案', '，', '並擇期', '開庭', '，', '傳喚', '陳', '明義進', '一步', '說明', '，', '再', '認定', '是否', '有驗票', '必要', '。', '新北市', '第二', '選區', '議員候', '選人', '陳', '明義', '，', '去年', '九', '合一', '大新北市', '第二', '選區', '議員候', '選人', '陳', '明義', '，', '爭取', '連任', '失利', '，', '成', '了', '落', '選頭', '，', '他', '認為', '選', '前清', '潔工', '事件', '影片', '遭人', '變造', '、', '剪接', '，', '影響', '選務人員', '公平性', '，', '將', '部分', '屬', '於', '他', '的', '選票', '認定', '為', '無效票', '或', '其他', '候選人', '的', '票', '，', '上', '月', '向', '新北', '地院', '聲', '請', '全面', '驗票', '，', '並對', '吊車', '尾', '當選', '的', '陳', '文治', '提出', '當選無效', '之訴', '。', '新北', '地院', '表示', '，', '日前', '確實', '收到', '陳', '明義的', '相關聲', '請', '，', '最快', '在', '今日', '就會', '分案', '，', '並擇期', '開庭', '，', '傳喚', '陳', '明義進', '一步', '說明', '，', '再', '認定', '是否', '有驗票', '必要', '。', '新北市', '第二', '選區', '議員候', '選人', '陳', '明義', '，', '去年', '九', '合一', '大選前', '，', '因', '競選旗幟', '與', '布幕', '遭到', '清潔', '隊員', '拆除', '，', '他', '得知', '後', '怒', '嗆', '「', '讓', '你', '們', '掃個夠', '」', '，', '遭人錄', '下', '並上', '傳', '網路', '，', '引發', '社會', '輿論', '撻', '伐', '，', '更', '有', '上', '百名', '清潔工', '包圍', '陳', '明義競選', '總部', '。', '據', '了解', '，', '陳', '明義認', '為', '，', '該', '影片', '遭', '人', '剪接', '、', '變造', '，', '隨媒體', '強力', '放送', '，', '不僅', '重創', '他', '的', '形象', '，', '更', '影響', '選務人員', '的', '公平性', '，', '造成', '不少', '投給', '他', '的', '有效', '選票', '，', '遭選務', '人員', '認定', '為', '無效票', '，', '或是', '他人', '選票', '。', '陳', '明義', '指出', '，', '選務人員', '的', '不公', '，', '已構', '成', '《', '公職', '人員', '選舉', '罷免', '法', '》', '中', '的', '「', '當選票', '數不實', '，', '足', '認有', '影響', '選舉', '結果', '之', '虞', '」', '，', '向', '新北', '地院', '聲', '請', '對', '第二', '選區', '包括', '新莊', '、', '五股', '、', '林口', '與', '泰山', '共', '387', '個', '投開票', '所', '全面', '驗票', '。', '陳', '明義', '表示', '，', '上月委', '託', '2', '位律師', '研究', '，', '針對', '陳', '文治', '、', '張晉婷', '其中', '1', '人', '提出', '當選無效', '告訴', '，', '然因', '張', '已', '被', '檢方', '提出', '當選無效', '，', '才', '轉而', '對', '陳', '提出', '告訴', '；', '對', '於', '驗票', '與', '否', '，', '陳', '明義說', '，', '目前', '仍無法', '確認', '，', '全數', '細節', '仍', '待', '8', '日自', '上海', '返台', '後', '與', '律師', '討論', '。', '對此', '，', '市議員', '陳', '文治', '則說', '，', '「', '真金不怕', '火煉', '」', '，', '若', '要', '重新', '驗票', '就', '每個', '票', '匭', '逐一', '驗票', '，', '的確', '，', '票數贏', '的', '少', '，', '僅有', '15', '票之差', '，', '但', '也', '不會', '影響', '陳', '明義落', '選事實', '，', '何況', '，', '提出', '當選無效', '告訴', '、', '驗票', '與', '否', '，', '也', '是', '他', '的', '權利', '。']\n"
     ]
    }
   ],
   "source": [
    "print(documents[0])"
   ]
  },
  {
   "cell_type": "code",
   "execution_count": 5,
   "metadata": {},
   "outputs": [],
   "source": [
    "model = gensim.models.Word2Vec (documents, size=150, window=10, min_count=2, workers=10)\n"
   ]
  },
  {
   "cell_type": "code",
   "execution_count": 6,
   "metadata": {},
   "outputs": [],
   "source": [
    "#model.train(documents,total_examples=len(documents),epochs=10)"
   ]
  },
  {
   "cell_type": "code",
   "execution_count": 7,
   "metadata": {},
   "outputs": [],
   "source": [
    "def get_words(txt):\n",
    "    most_common_verb = []\n",
    "    seg_list = jieba.cut(txt)\n",
    "    c = Counter()\n",
    "    for x in seg_list:\n",
    "        if len(x)>1 and x != '\\r\\n':\n",
    "            c[x] += 1\n",
    "    for (k,v) in c.most_common(5):\n",
    "        most_common_verb.append(k)\n",
    "    return most_common_verb"
   ]
  },
  {
   "cell_type": "code",
   "execution_count": null,
   "metadata": {},
   "outputs": [],
   "source": [
    "sent_ = []\n",
    "sent = pseg.cut(NC_Content_List_Join.replace(\"。\", \"\")) \n",
    "for word, flag in sent:\n",
    "    if flag == 'v':\n",
    "        sent_.append(word)\n",
    "verb = \"\".join(sent_)\n",
    "verblist = get_words(verb)"
   ]
  },
  {
   "cell_type": "code",
   "execution_count": null,
   "metadata": {},
   "outputs": [],
   "source": [
    "print(verblist)"
   ]
  },
  {
   "cell_type": "code",
   "execution_count": null,
   "metadata": {},
   "outputs": [],
   "source": [
    "sent_ = []\n",
    "sent = pseg.cut(words.replace(\"。\", \"\"))\n",
    "for word, flag in sent:\n",
    "    if flag == 'n':\n",
    "        sent_.append(word)\n",
    "noun = \"\".join(sent_)\n",
    "nounlist = get_words(noun)"
   ]
  },
  {
   "cell_type": "code",
   "execution_count": null,
   "metadata": {},
   "outputs": [],
   "source": [
    "print(nounlist)"
   ]
  },
  {
   "cell_type": "code",
   "execution_count": null,
   "metadata": {},
   "outputs": [],
   "source": [
    "for i in verblist:\n",
    "    model.wv.most_similar (positive=i,topn=20)"
   ]
  },
  {
   "cell_type": "code",
   "execution_count": null,
   "metadata": {},
   "outputs": [],
   "source": [
    "for i in nounlist:\n",
    "    model.wv.most_similar (positive=i,topn=20)"
   ]
  },
  {
   "cell_type": "code",
   "execution_count": null,
   "metadata": {},
   "outputs": [],
   "source": [
    "model_seed = gensim.models.Word2Vec (documents, size=150, window=10, min_count=2,\n",
    "                                seed=13799, workers=10)\n",
    "#model.train(documents,total_examples=len(documents),epochs=10)"
   ]
  },
  {
   "cell_type": "code",
   "execution_count": null,
   "metadata": {},
   "outputs": [],
   "source": [
    "for i in verblist:\n",
    "    model_seed.wv.most_similar (positive=i,topn=20)"
   ]
  },
  {
   "cell_type": "code",
   "execution_count": null,
   "metadata": {},
   "outputs": [],
   "source": [
    "for i in nounlist:\n",
    "    model_seed.wv.most_similar (positive=i,topn=20)"
   ]
  },
  {
   "cell_type": "code",
   "execution_count": null,
   "metadata": {},
   "outputs": [],
   "source": []
  }
 ],
 "metadata": {
  "kernelspec": {
   "display_name": "Python 3",
   "language": "python",
   "name": "python3"
  },
  "language_info": {
   "codemirror_mode": {
    "name": "ipython",
    "version": 3
   },
   "file_extension": ".py",
   "mimetype": "text/x-python",
   "name": "python",
   "nbconvert_exporter": "python",
   "pygments_lexer": "ipython3",
   "version": "3.7.1"
  }
 },
 "nbformat": 4,
 "nbformat_minor": 2
}
