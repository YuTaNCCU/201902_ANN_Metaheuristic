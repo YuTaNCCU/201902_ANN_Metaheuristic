{
 "cells": [
  {
   "cell_type": "markdown",
   "metadata": {},
   "source": [
    "# Text Analysis with Deep Learning\n",
    "#### Word2Vec of Gensim\n",
    "##### prepared by Chao-Lin Liu\n",
    "實際執行 simple.word2vec.ipynb，觀察和比較設定不同 seed 的時候所得到的 word vectors 和 most_similar 詞彙"
   ]
  },
  {
   "cell_type": "code",
   "execution_count": 2,
   "metadata": {},
   "outputs": [],
   "source": [
    "import numpy as np\n",
    "import nltk\n",
    "import warnings\n",
    "warnings.filterwarnings(action='ignore', category=UserWarning, module='gensim')\n",
    "from gensim.models import Word2Vec"
   ]
  },
  {
   "cell_type": "code",
   "execution_count": 4,
   "metadata": {},
   "outputs": [],
   "source": [
    "from nltk.corpus import brown\n",
    "sentences = brown.sents()\n",
    "\"\"\"nltk.download('brown')\n",
    "sentences = nltk.brown.sents()\"\"\""
   ]
  },
  {
   "cell_type": "code",
   "execution_count": 5,
   "metadata": {},
   "outputs": [
    {
     "data": {
      "text/plain": [
       "57340"
      ]
     },
     "execution_count": 5,
     "metadata": {},
     "output_type": "execute_result"
    }
   ],
   "source": [
    "len(sentences)"
   ]
  },
  {
   "cell_type": "code",
   "execution_count": 6,
   "metadata": {},
   "outputs": [
    {
     "name": "stdout",
     "output_type": "stream",
     "text": [
      "['The', 'Fulton', 'County', 'Grand', 'Jury', 'said', 'Friday', 'an', 'investigation', 'of', \"Atlanta's\", 'recent', 'primary', 'election', 'produced', '``', 'no', 'evidence', \"''\", 'that', 'any', 'irregularities', 'took', 'place', '.']\n"
     ]
    }
   ],
   "source": [
    "print(sentences[0])"
   ]
  },
  {
   "cell_type": "markdown",
   "metadata": {},
   "source": [
    "# NO SEED "
   ]
  },
  {
   "cell_type": "code",
   "execution_count": 13,
   "metadata": {},
   "outputs": [
    {
     "name": "stdout",
     "output_type": "stream",
     "text": [
      "County\n"
     ]
    },
    {
     "data": {
      "text/plain": [
       "array([ 0.65429693, -0.07984881,  2.0935822 ,  0.24326402, -1.4334669 ,\n",
       "        0.6531443 , -0.23059085, -0.17957392,  0.430512  ,  0.2892541 ],\n",
       "      dtype=float32)"
      ]
     },
     "execution_count": 13,
     "metadata": {},
     "output_type": "execute_result"
    }
   ],
   "source": [
    "model = Word2Vec(sentences, size=10, window=5, min_count=5, workers=4)\n",
    "word = sentences[0][2]\n",
    "print(word)\n",
    "model.wv[word]"
   ]
  },
  {
   "cell_type": "code",
   "execution_count": 20,
   "metadata": {},
   "outputs": [
    {
     "name": "stdout",
     "output_type": "stream",
     "text": [
      "County\n"
     ]
    },
    {
     "data": {
      "text/plain": [
       "array([ 0.36342672, -0.14834179,  2.1629977 ,  0.18508191, -1.2519689 ,\n",
       "        0.7949608 , -0.42402762, -0.20449197,  0.5653986 ,  0.34473264],\n",
       "      dtype=float32)"
      ]
     },
     "execution_count": 20,
     "metadata": {},
     "output_type": "execute_result"
    }
   ],
   "source": [
    "model = Word2Vec(sentences, size=10, window=5, min_count=5, workers=4)\n",
    "word = sentences[0][2]\n",
    "print(word)\n",
    "model.wv[word]"
   ]
  },
  {
   "cell_type": "code",
   "execution_count": 21,
   "metadata": {},
   "outputs": [
    {
     "name": "stdout",
     "output_type": "stream",
     "text": [
      "County\n"
     ]
    },
    {
     "data": {
      "text/plain": [
       "array([ 0.36190233, -0.14801641,  2.1632452 ,  0.18438667, -1.251293  ,\n",
       "        0.7943459 , -0.42399263, -0.20529467,  0.5652424 ,  0.34495622],\n",
       "      dtype=float32)"
      ]
     },
     "execution_count": 21,
     "metadata": {},
     "output_type": "execute_result"
    }
   ],
   "source": [
    "model = Word2Vec(sentences, size=10, window=5, min_count=5, workers=4)\n",
    "word = sentences[0][2]\n",
    "print(word)\n",
    "model.wv[word]"
   ]
  },
  {
   "cell_type": "markdown",
   "metadata": {},
   "source": [
    "# SET SEED "
   ]
  },
  {
   "cell_type": "code",
   "execution_count": 23,
   "metadata": {},
   "outputs": [
    {
     "name": "stdout",
     "output_type": "stream",
     "text": [
      "[ 0.36289042 -0.14868332  2.1634583   0.18578434 -1.2511537   0.79429215\n",
      " -0.42332855 -0.20436001  0.56515384  0.3449975 ]\n",
      "[('Iron', 0.9888026118278503), ('native', 0.9817953705787659), ('founded', 0.9811700582504272), ('Abbey', 0.9808929562568665), ('broadcast', 0.978879451751709), ('curve', 0.9784453511238098), ('Forensic', 0.9781973958015442), ('27', 0.9779336452484131), ('former', 0.9779244661331177), ('Join', 0.975534975528717)]\n",
      "[('girl', 0.9669840335845947), ('redhead', 0.9432463049888611), ('voice', 0.9285280704498291), ('youngster', 0.9244962930679321), ('whom', 0.9180590510368347), ('man', 0.9178900122642517)]\n"
     ]
    }
   ],
   "source": [
    "model = Word2Vec(sentences, size=10, window=5, min_count=5, seed=1, workers=4)\n",
    "word = sentences[0][2]\n",
    "print(model.wv[word])\n",
    "print(model.wv.most_similar(positive=['king', 'woman'], negative=['man']))\n",
    "print(model.wv.most_similar(positive='woman', topn=6))"
   ]
  },
  {
   "cell_type": "code",
   "execution_count": 24,
   "metadata": {},
   "outputs": [
    {
     "name": "stdout",
     "output_type": "stream",
     "text": [
      "[ 0.099599   -0.3282311   0.27868125 -0.9394002   0.26770252  2.1228004\n",
      "  0.17313199  0.20291576 -0.707541   -1.2979434 ]\n",
      "[('replacement', 0.9935884475708008), ('advertising', 0.9916220307350159), ('Pacific', 0.9913528561592102), (\"poet's\", 0.9902164340019226), ('translation', 0.9892920255661011), ('original', 0.9889739751815796), ('resource', 0.9886422157287598), ('representing', 0.9879164099693298), ('Great', 0.9864792823791504), ('Conference', 0.9859557151794434)]\n",
      "[('girl', 0.982164740562439), ('statement', 0.9609951972961426), ('boy', 0.9602387547492981), ('child', 0.9503728151321411), ('old', 0.9468761086463928), ('story', 0.9387912750244141)]\n"
     ]
    }
   ],
   "source": [
    "model = Word2Vec(sentences, size=10, window=5, min_count=5, seed=100, workers=4)\n",
    "word = sentences[0][2]\n",
    "print(model.wv[word])\n",
    "print(model.wv.most_similar(positive=['king', 'woman'], negative=['man']))\n",
    "print(model.wv.most_similar(positive='woman', topn=6))"
   ]
  },
  {
   "cell_type": "code",
   "execution_count": null,
   "metadata": {},
   "outputs": [],
   "source": []
  }
 ],
 "metadata": {
  "kernelspec": {
   "display_name": "Python 3",
   "language": "python",
   "name": "python3"
  },
  "language_info": {
   "codemirror_mode": {
    "name": "ipython",
    "version": 3
   },
   "file_extension": ".py",
   "mimetype": "text/x-python",
   "name": "python",
   "nbconvert_exporter": "python",
   "pygments_lexer": "ipython3",
   "version": "3.7.3"
  }
 },
 "nbformat": 4,
 "nbformat_minor": 2
}
