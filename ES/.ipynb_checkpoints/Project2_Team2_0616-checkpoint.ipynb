{
 "cells": [
  {
   "cell_type": "code",
   "execution_count": 1,
   "metadata": {},
   "outputs": [],
   "source": [
    "import gensim\n",
    "import pandas as pd\n",
    "import jieba\n",
    "import jieba.posseg as pseg\n",
    "from collections import defaultdict, Counter"
   ]
  },
  {
   "cell_type": "code",
   "execution_count": 2,
   "metadata": {},
   "outputs": [],
   "source": [
    "NC_excel = pd.read_excel(\"NC_1_All.xlsx\")\n",
    "NC_Content_List = NC_excel.News_Content.astype(str).tolist()\n",
    "NC_Content_List_Join = \"\".join(NC_Content_List)"
   ]
  },
  {
   "cell_type": "code",
   "execution_count": 3,
   "metadata": {},
   "outputs": [
    {
     "name": "stderr",
     "output_type": "stream",
     "text": [
      "Building prefix dict from the default dictionary ...\n",
      "Dumping model to file cache C:\\Users\\yoda\\AppData\\Local\\Temp\\3\\jieba.cache\n",
      "Loading model cost 0.750 seconds.\n",
      "Prefix dict has been built succesfully.\n"
     ]
    }
   ],
   "source": [
    "documents = []\n",
    "for i in NC_Content_List:\n",
    "    documents.append((jieba.lcut(i)))"
   ]
  },
  {
   "cell_type": "code",
   "execution_count": 4,
   "metadata": {},
   "outputs": [
    {
     "name": "stdout",
     "output_type": "stream",
     "text": [
      "['新北市', '第二', '選區', '議員候', '選人', '陳', '明義', '，', '爭取', '連任', '失利', '，', '成', '了', '落', '選頭', '，', '他', '認為', '選', '前清', '潔工', '事件', '影片', '遭人', '變造', '、', '剪接', '，', '影響', '選務人員', '公平性', '，', '將', '部分', '屬', '於', '他', '的', '選票', '認定', '為', '無效票', '或', '其他', '候選人', '的', '票', '，', '上', '月', '向', '新北', '地院', '聲', '請', '全面', '驗票', '，', '並對', '吊車', '尾', '當選', '的', '陳', '文治', '提出', '當選無效', '之訴', '。', '新北', '地院', '表示', '，', '日前', '確實', '收到', '陳', '明義的', '相關聲', '請', '，', '最快', '在', '今日', '就會', '分案', '，', '並擇期', '開庭', '，', '傳喚', '陳', '明義進', '一步', '說明', '，', '再', '認定', '是否', '有驗票', '必要', '。', '新北市', '第二', '選區', '議員候', '選人', '陳', '明義', '，', '去年', '九', '合一', '大新北市', '第二', '選區', '議員候', '選人', '陳', '明義', '，', '爭取', '連任', '失利', '，', '成', '了', '落', '選頭', '，', '他', '認為', '選', '前清', '潔工', '事件', '影片', '遭人', '變造', '、', '剪接', '，', '影響', '選務人員', '公平性', '，', '將', '部分', '屬', '於', '他', '的', '選票', '認定', '為', '無效票', '或', '其他', '候選人', '的', '票', '，', '上', '月', '向', '新北', '地院', '聲', '請', '全面', '驗票', '，', '並對', '吊車', '尾', '當選', '的', '陳', '文治', '提出', '當選無效', '之訴', '。', '新北', '地院', '表示', '，', '日前', '確實', '收到', '陳', '明義的', '相關聲', '請', '，', '最快', '在', '今日', '就會', '分案', '，', '並擇期', '開庭', '，', '傳喚', '陳', '明義進', '一步', '說明', '，', '再', '認定', '是否', '有驗票', '必要', '。', '新北市', '第二', '選區', '議員候', '選人', '陳', '明義', '，', '去年', '九', '合一', '大選前', '，', '因', '競選旗幟', '與', '布幕', '遭到', '清潔', '隊員', '拆除', '，', '他', '得知', '後', '怒', '嗆', '「', '讓', '你', '們', '掃個夠', '」', '，', '遭人錄', '下', '並上', '傳', '網路', '，', '引發', '社會', '輿論', '撻', '伐', '，', '更', '有', '上', '百名', '清潔工', '包圍', '陳', '明義競選', '總部', '。', '據', '了解', '，', '陳', '明義認', '為', '，', '該', '影片', '遭', '人', '剪接', '、', '變造', '，', '隨媒體', '強力', '放送', '，', '不僅', '重創', '他', '的', '形象', '，', '更', '影響', '選務人員', '的', '公平性', '，', '造成', '不少', '投給', '他', '的', '有效', '選票', '，', '遭選務', '人員', '認定', '為', '無效票', '，', '或是', '他人', '選票', '。', '陳', '明義', '指出', '，', '選務人員', '的', '不公', '，', '已構', '成', '《', '公職', '人員', '選舉', '罷免', '法', '》', '中', '的', '「', '當選票', '數不實', '，', '足', '認有', '影響', '選舉', '結果', '之', '虞', '」', '，', '向', '新北', '地院', '聲', '請', '對', '第二', '選區', '包括', '新莊', '、', '五股', '、', '林口', '與', '泰山', '共', '387', '個', '投開票', '所', '全面', '驗票', '。', '陳', '明義', '表示', '，', '上月委', '託', '2', '位律師', '研究', '，', '針對', '陳', '文治', '、', '張晉婷', '其中', '1', '人', '提出', '當選無效', '告訴', '，', '然因', '張', '已', '被', '檢方', '提出', '當選無效', '，', '才', '轉而', '對', '陳', '提出', '告訴', '；', '對', '於', '驗票', '與', '否', '，', '陳', '明義說', '，', '目前', '仍無法', '確認', '，', '全數', '細節', '仍', '待', '8', '日自', '上海', '返台', '後', '與', '律師', '討論', '。', '對此', '，', '市議員', '陳', '文治', '則說', '，', '「', '真金不怕', '火煉', '」', '，', '若', '要', '重新', '驗票', '就', '每個', '票', '匭', '逐一', '驗票', '，', '的確', '，', '票數贏', '的', '少', '，', '僅有', '15', '票之差', '，', '但', '也', '不會', '影響', '陳', '明義落', '選事實', '，', '何況', '，', '提出', '當選無效', '告訴', '、', '驗票', '與', '否', '，', '也', '是', '他', '的', '權利', '。']\n"
     ]
    }
   ],
   "source": [
    "print(documents[0])"
   ]
  },
  {
   "cell_type": "code",
   "execution_count": 5,
   "metadata": {},
   "outputs": [],
   "source": [
    "model = gensim.models.Word2Vec (documents, size=150, window=10, min_count=2, workers=10)\n"
   ]
  },
  {
   "cell_type": "code",
   "execution_count": 6,
   "metadata": {},
   "outputs": [],
   "source": [
    "#model.train(documents,total_examples=len(documents),epochs=10)"
   ]
  },
  {
   "cell_type": "code",
   "execution_count": null,
   "metadata": {},
   "outputs": [],
   "source": [
    "def get_words(txt, most_common_N=5):\n",
    "    most_common_verb = []\n",
    "    seg_list = jieba.cut(txt)\n",
    "    c = Counter()\n",
    "    for x in seg_list:\n",
    "        if len(x)>1 and x != '\\r\\n':\n",
    "            c[x] += 1\n",
    "    for (k,v) in c.most_common(most_common_N):\n",
    "        most_common_verb.append(k)\n",
    "    return most_common_verb\n",
    "most_common_words = get_words(NC_Content_List_Join, most_common_N=100)"
   ]
  },
  {
   "cell_type": "code",
   "execution_count": null,
   "metadata": {},
   "outputs": [],
   "source": [
    "most_common_words[:10]"
   ]
  },
  {
   "cell_type": "code",
   "execution_count": 33,
   "metadata": {},
   "outputs": [
    {
     "data": {
      "text/plain": [
       "['新北市第二選區議員候選人陳明義，爭取連任失利，成了落選頭，他認為選前清潔工事件影片遭人變造、剪接，影響選務人員公平性，將部分屬於他的選票認定為無效票或其他候選人的票，上月向新北地院聲請全面驗票，並對吊車尾當選的陳文治提出當選無效之訴。新北地院表示，日前確實收到陳明義的相關聲請，最快在今日就會分案，並擇期開庭，傳喚陳明義進一步說明，再認定是否有驗票必要。新北市第二選區議員候選人陳明義，去年九合一大新北市第二選區議員候選人陳明義，爭取連任失利，成了落選頭，他認為選前清潔工事件影片遭人變造、剪接，影響選務人員公平性，將部分屬於他的選票認定為無效票或其他候選人的票，上月向新北地院聲請全面驗票，並對吊車尾當選的陳文治提出當選無效之訴。新北地院表示，日前確實收到陳明義的相關聲請，最快在今日就會分案，並擇期開庭，傳喚陳明義進一步說明，再認定是否有驗票必要。新北市第二選區議員候選人陳明義，去年九合一大選前，因競選旗幟與布幕遭到清潔隊員拆除，他得知後怒嗆「讓你們掃個夠」，遭人錄下並上傳網路，引發社會輿論撻伐，更有上百名清潔工包圍陳明義競選總部。據了解，陳明義認為，該影片遭人剪接、變造，隨媒體強力放送，不僅重創他的形象，更影響選務人員的公平性，造成不少投給他的有效選票，遭選務人員認定為無效票，或是他人選票。陳明義指出，選務人員的不公，已構成《公職人員選舉罷免法》中的「當選票數不實，足認有影響選舉結果之虞」，向新北地院聲請對第二選區包括新莊、五股、林口與泰山共387個投開票所全面驗票。陳明義表示，上月委託2位律師研究，針對陳文治、張晉婷其中1人提出當選無效告訴，然因張已被檢方提出當選無效，才轉而對陳提出告訴；對於驗票與否，陳明義說，目前仍無法確認，全數細節仍待8日自上海返台後與律師討論。對此，市議員陳文治則說，「真金不怕火煉」，若要重新驗票就每個票匭逐一驗票，的確，票數贏的少，僅有15票之差，但也不會影響陳明義落選事實，何況，提出當選無效告訴、驗票與否，也是他的權利。',\n",
       " '《蘋果》僅提供專業分析，但不保證獲利；提醒您，小賭怡情。版面僅供參考，隊名、主客場、賠率如有出入，以台灣運彩為準。資料來源：美國大聯盟官網 http://www.mlb.com  (先發可能變動，以官網為準)。  ★為左投  投手戰績為勝-敗-防禦率賭盤擂台註：《蘋果體育》進行虛擬賭盤擂台，每名受邀參賽者擁有10萬台幣賭金，每場單注5000台幣，上限為4注(20000台幣)，每周結算一次，並次周二公布，結算當周輸得最慘者須下放重新籌錢，一周內不得參賽，而單周淨賺最多者加封「蘋果波神」頭銜。賭盤擂台昨日戰績◎跨聯盟海盜(主) 9:3 金鶯國民(主) 6:5 水手落磯(客) 4:3 印地安人運動家(客) 7:3 大都會教士(客) 5:4 紅襪勇士(主) 5:1 藍鳥馬林魚(主) 5:2 天使遊騎兵(主) 5:4 太空人釀酒人(主) 5:1 光芒白襪(主) 3:2 小熊響尾蛇(客) 7:2 皇家道奇(主) 6:1 老虎雙城(客) 9:2 巨人◎國家聯盟費城人(客) 10:2 紅雀掌握台美日職棒、籃球、足球即時比分，手機直撥55108(每秒0.12元)、市話0949-150-158(每分4元)']"
      ]
     },
     "execution_count": 33,
     "metadata": {},
     "output_type": "execute_result"
    }
   ],
   "source": [
    "NC_Content_List[:2]"
   ]
  },
  {
   "cell_type": "code",
   "execution_count": 30,
   "metadata": {},
   "outputs": [
    {
     "data": {
      "text/plain": [
       "[]"
      ]
     },
     "execution_count": 30,
     "metadata": {},
     "output_type": "execute_result"
    }
   ],
   "source": [
    "from jieba import analyse\n",
    "jieba.analyse.extract_tags(i, topK=5000)"
   ]
  },
  {
   "cell_type": "code",
   "execution_count": 40,
   "metadata": {},
   "outputs": [
    {
     "data": {
      "text/plain": [
       "[['新北市',\n",
       "  '選區',\n",
       "  '議員候',\n",
       "  '選人',\n",
       "  '明義',\n",
       "  '爭取',\n",
       "  '連任',\n",
       "  '選頭',\n",
       "  '認為',\n",
       "  '潔工',\n",
       "  '變造',\n",
       "  '影響',\n",
       "  '選務人員',\n",
       "  '選票',\n",
       "  '認定',\n",
       "  '無效票',\n",
       "  '候選人',\n",
       "  '新北',\n",
       "  '地院',\n",
       "  '驗票',\n",
       "  '並對',\n",
       "  '吊車',\n",
       "  '當選',\n",
       "  '當選無效',\n",
       "  '之訴',\n",
       "  '剪接',\n",
       "  '公平性',\n",
       "  '文治',\n",
       "  '前清',\n",
       "  '遭人',\n",
       "  '失利',\n",
       "  '影片',\n",
       "  '事件',\n",
       "  '全面',\n",
       "  '第二',\n",
       "  '提出',\n",
       "  '部分',\n",
       "  '其他'],\n",
       " ['新北',\n",
       "  '地院',\n",
       "  '確實',\n",
       "  '明義的',\n",
       "  '相關聲',\n",
       "  '就會',\n",
       "  '分案',\n",
       "  '並擇期',\n",
       "  '開庭',\n",
       "  '傳喚',\n",
       "  '明義進',\n",
       "  '說明',\n",
       "  '認定',\n",
       "  '有驗票',\n",
       "  '最快',\n",
       "  '收到',\n",
       "  '日前',\n",
       "  '一步',\n",
       "  '必要',\n",
       "  '是否',\n",
       "  '今日',\n",
       "  '表示'],\n",
       " ['選區',\n",
       "  '議員候',\n",
       "  '選人',\n",
       "  '明義',\n",
       "  '新北市',\n",
       "  '大新北市',\n",
       "  '爭取',\n",
       "  '連任',\n",
       "  '選頭',\n",
       "  '認為',\n",
       "  '潔工',\n",
       "  '變造',\n",
       "  '影響',\n",
       "  '選務人員',\n",
       "  '選票',\n",
       "  '認定',\n",
       "  '無效票',\n",
       "  '候選人',\n",
       "  '新北',\n",
       "  '地院',\n",
       "  '驗票',\n",
       "  '並對',\n",
       "  '吊車',\n",
       "  '當選',\n",
       "  '當選無效',\n",
       "  '之訴',\n",
       "  '剪接',\n",
       "  '第二',\n",
       "  '公平性',\n",
       "  '文治',\n",
       "  '前清',\n",
       "  '遭人',\n",
       "  '合一',\n",
       "  '失利',\n",
       "  '影片',\n",
       "  '事件',\n",
       "  '全面',\n",
       "  '去年',\n",
       "  '提出',\n",
       "  '部分',\n",
       "  '其他'],\n",
       " ['新北',\n",
       "  '地院',\n",
       "  '確實',\n",
       "  '明義的',\n",
       "  '相關聲',\n",
       "  '就會',\n",
       "  '分案',\n",
       "  '並擇期',\n",
       "  '開庭',\n",
       "  '傳喚',\n",
       "  '明義進',\n",
       "  '說明',\n",
       "  '認定',\n",
       "  '有驗票',\n",
       "  '最快',\n",
       "  '收到',\n",
       "  '日前',\n",
       "  '一步',\n",
       "  '必要',\n",
       "  '是否',\n",
       "  '今日',\n",
       "  '表示'],\n",
       " ['新北市',\n",
       "  '選區',\n",
       "  '議員候',\n",
       "  '選人',\n",
       "  '明義',\n",
       "  '大選前',\n",
       "  '競選旗幟',\n",
       "  '布幕',\n",
       "  '清潔',\n",
       "  '隊員',\n",
       "  '掃個夠',\n",
       "  '遭人錄',\n",
       "  '並上',\n",
       "  '網路',\n",
       "  '引發',\n",
       "  '社會',\n",
       "  '輿論',\n",
       "  '清潔工',\n",
       "  '包圍',\n",
       "  '明義競選',\n",
       "  '總部',\n",
       "  '百名',\n",
       "  '合一',\n",
       "  '拆除',\n",
       "  '得知',\n",
       "  '遭到',\n",
       "  '第二',\n",
       "  '去年'],\n",
       " ['選票',\n",
       "  '放送',\n",
       "  '明義認',\n",
       "  '變造',\n",
       "  '隨媒體',\n",
       "  '強力',\n",
       "  '不僅',\n",
       "  '重創',\n",
       "  '影響',\n",
       "  '選務人員',\n",
       "  '投給',\n",
       "  '遭選務',\n",
       "  '人員',\n",
       "  '認定',\n",
       "  '無效票',\n",
       "  '剪接',\n",
       "  '公平性',\n",
       "  '影片',\n",
       "  '他人',\n",
       "  '或是',\n",
       "  '形象',\n",
       "  '有效',\n",
       "  '造成',\n",
       "  '了解',\n",
       "  '不少'],\n",
       " ['選舉',\n",
       "  '明義',\n",
       "  '選務人員',\n",
       "  '已構',\n",
       "  '公職',\n",
       "  '人員',\n",
       "  '罷免',\n",
       "  '當選票',\n",
       "  '數不實',\n",
       "  '認有',\n",
       "  '影響',\n",
       "  '結果',\n",
       "  '新北',\n",
       "  '地院',\n",
       "  '選區',\n",
       "  '新莊',\n",
       "  '387',\n",
       "  '投開票',\n",
       "  '驗票',\n",
       "  '五股',\n",
       "  '林口',\n",
       "  '不公',\n",
       "  '泰山',\n",
       "  '全面',\n",
       "  '第二',\n",
       "  '指出',\n",
       "  '包括'],\n",
       " ['當選無效',\n",
       "  '告訴',\n",
       "  '提出',\n",
       "  '明義',\n",
       "  '上月委',\n",
       "  '位律師',\n",
       "  '針對',\n",
       "  '張晉婷',\n",
       "  '然因',\n",
       "  '檢方',\n",
       "  '轉而',\n",
       "  '驗票',\n",
       "  '明義說',\n",
       "  '仍無法',\n",
       "  '確認',\n",
       "  '全數',\n",
       "  '細節',\n",
       "  '日自',\n",
       "  '律師',\n",
       "  '討論',\n",
       "  '返台',\n",
       "  '文治',\n",
       "  '上海',\n",
       "  '研究',\n",
       "  '其中',\n",
       "  '目前',\n",
       "  '表示'],\n",
       " ['驗票',\n",
       "  '真金不怕',\n",
       "  '對此',\n",
       "  '市議員',\n",
       "  '則說',\n",
       "  '火煉',\n",
       "  '每個',\n",
       "  '的確',\n",
       "  '票數贏',\n",
       "  '僅有',\n",
       "  '15',\n",
       "  '票之差',\n",
       "  '不會',\n",
       "  '影響',\n",
       "  '明義落',\n",
       "  '選事實',\n",
       "  '何況',\n",
       "  '當選無效',\n",
       "  '告訴',\n",
       "  '權利',\n",
       "  '文治',\n",
       "  '逐一',\n",
       "  '重新',\n",
       "  '提出'],\n",
       " [],\n",
       " ['蘋果', '專業', '保證', '獲利', '小賭', '怡情', '提醒您', '分析', '提供'],\n",
       " ['僅供', '參考', '隊名', '賠率', '以台灣', '運彩', '為準', '版面', '主客', '如有', '出入'],\n",
       " ['資料',\n",
       "  '來源',\n",
       "  '美國',\n",
       "  '大聯盟',\n",
       "  '官網',\n",
       "  'http',\n",
       "  'www',\n",
       "  'mlb',\n",
       "  'com',\n",
       "  '先發',\n",
       "  '變動',\n",
       "  '以官',\n",
       "  '網為準',\n",
       "  '可能'],\n",
       " ['賭盤',\n",
       "  '蘋果',\n",
       "  '台幣',\n",
       "  '擂台',\n",
       "  '戰績',\n",
       "  '為勝',\n",
       "  '防禦率',\n",
       "  '體育',\n",
       "  '進行',\n",
       "  '虛擬',\n",
       "  '參賽者',\n",
       "  '擁有',\n",
       "  '10',\n",
       "  '萬台幣',\n",
       "  '賭金',\n",
       "  '每場',\n",
       "  '單注',\n",
       "  '5000',\n",
       "  '20000',\n",
       "  '結算',\n",
       "  '並次',\n",
       "  '結算當',\n",
       "  '周輸',\n",
       "  '慘者須',\n",
       "  '籌錢',\n",
       "  '參賽',\n",
       "  '而單',\n",
       "  '周淨',\n",
       "  '波神',\n",
       "  '頭銜',\n",
       "  '投手',\n",
       "  '受邀',\n",
       "  '每名',\n",
       "  '加封',\n",
       "  '下放',\n",
       "  '多者',\n",
       "  '每周',\n",
       "  '上限',\n",
       "  '周二',\n",
       "  '一周',\n",
       "  '不得',\n",
       "  '重新',\n",
       "  '公布',\n",
       "  '一次'],\n",
       " ['印地安人',\n",
       "  '賭盤',\n",
       "  '戰績',\n",
       "  '跨聯盟',\n",
       "  '海盜',\n",
       "  '金鶯國民',\n",
       "  '落磯',\n",
       "  '運動家',\n",
       "  '紅襪',\n",
       "  '藍鳥馬林魚',\n",
       "  '遊騎兵',\n",
       "  '人釀',\n",
       "  '酒人',\n",
       "  '白襪',\n",
       "  '響尾蛇',\n",
       "  '雙城',\n",
       "  '國家',\n",
       "  '聯盟費',\n",
       "  '城人',\n",
       "  '10',\n",
       "  '紅雀',\n",
       "  '台美日',\n",
       "  '職棒',\n",
       "  '籃球',\n",
       "  '即時',\n",
       "  '手機',\n",
       "  '直撥',\n",
       "  '55108',\n",
       "  '0.12',\n",
       "  '市話',\n",
       "  '0949',\n",
       "  '150',\n",
       "  '158',\n",
       "  '小熊',\n",
       "  '擂台',\n",
       "  '每分',\n",
       "  '道奇',\n",
       "  '比分',\n",
       "  '每秒',\n",
       "  '教士',\n",
       "  '巨人',\n",
       "  '勇士',\n",
       "  '水手',\n",
       "  '太空',\n",
       "  '天使',\n",
       "  '足球',\n",
       "  '光芒',\n",
       "  '老虎',\n",
       "  '皇家',\n",
       "  '大都',\n",
       "  '掌握',\n",
       "  '昨日']]"
      ]
     },
     "execution_count": 40,
     "metadata": {},
     "output_type": "execute_result"
    }
   ],
   "source": [
    "#test1\n",
    "extracted_tags = []\n",
    "for i in NC_Content_List[:2]: \n",
    "    #print(i)\n",
    "    sentence  = i.split(\"。\")\n",
    "    #print(sentence)\n",
    "    for x in sentence:\n",
    "        word = jieba.analyse.extract_tags(x, topK=5000)  #??從這個文章中取出前 5000 個 tf-idf 值最大的關鍵詞。\n",
    "        extracted_tags.append([x for x in word])\n",
    "extracted_tags"
   ]
  },
  {
   "cell_type": "code",
   "execution_count": 47,
   "metadata": {},
   "outputs": [
    {
     "name": "stdout",
     "output_type": "stream",
     "text": [
      "新北市/ns\n",
      "第二/m\n",
      "選區/n\n",
      "議員候/n\n",
      "選人/n\n",
      "陳明義/nr\n",
      "，/x\n",
      "爭取/v\n",
      "連任/v\n",
      "失利/vn\n"
     ]
    }
   ],
   "source": [
    "#test2\n",
    "sent_ = []\n",
    "sent = pseg.cut(NC_Content_List_Join.replace(\"。\", \"\")) \n",
    "for i in range(10):\n",
    "    print(next(sent))"
   ]
  },
  {
   "cell_type": "code",
   "execution_count": 48,
   "metadata": {},
   "outputs": [
    {
     "name": "stdout",
     "output_type": "stream",
     "text": [
      "0\n",
      "1000\n",
      "2000\n",
      "3000\n",
      "4000\n",
      "5000\n",
      "6000\n"
     ]
    },
    {
     "ename": "KeyboardInterrupt",
     "evalue": "",
     "output_type": "error",
     "traceback": [
      "\u001b[1;31m---------------------------------------------------------------------------\u001b[0m",
      "\u001b[1;31mKeyboardInterrupt\u001b[0m                         Traceback (most recent call last)",
      "\u001b[1;32m<ipython-input-48-876dcbb2b041>\u001b[0m in \u001b[0;36m<module>\u001b[1;34m\u001b[0m\n\u001b[1;32m----> 1\u001b[1;33m \u001b[1;32mfor\u001b[0m \u001b[0mi\u001b[0m\u001b[1;33m,\u001b[0m \u001b[1;33m(\u001b[0m\u001b[0mword\u001b[0m\u001b[1;33m,\u001b[0m \u001b[0mflag\u001b[0m\u001b[1;33m)\u001b[0m \u001b[1;32min\u001b[0m \u001b[0menumerate\u001b[0m\u001b[1;33m(\u001b[0m\u001b[0msent\u001b[0m\u001b[1;33m)\u001b[0m\u001b[1;33m:\u001b[0m\u001b[1;33m\u001b[0m\u001b[1;33m\u001b[0m\u001b[0m\n\u001b[0m\u001b[0;32m      2\u001b[0m     \u001b[1;32mif\u001b[0m \u001b[0mi\u001b[0m \u001b[1;33m%\u001b[0m \u001b[1;36m1000\u001b[0m \u001b[1;33m==\u001b[0m\u001b[1;36m0\u001b[0m\u001b[1;33m:\u001b[0m\u001b[1;33m\u001b[0m\u001b[1;33m\u001b[0m\u001b[0m\n\u001b[0;32m      3\u001b[0m         \u001b[0mprint\u001b[0m\u001b[1;33m(\u001b[0m\u001b[0mi\u001b[0m\u001b[1;33m)\u001b[0m\u001b[1;33m\u001b[0m\u001b[1;33m\u001b[0m\u001b[0m\n\u001b[0;32m      4\u001b[0m     \u001b[1;32mif\u001b[0m \u001b[0mflag\u001b[0m \u001b[1;33m==\u001b[0m \u001b[1;34m'v'\u001b[0m\u001b[1;33m:\u001b[0m\u001b[1;33m\u001b[0m\u001b[1;33m\u001b[0m\u001b[0m\n\u001b[0;32m      5\u001b[0m         \u001b[1;32mpass\u001b[0m\u001b[1;33m\u001b[0m\u001b[1;33m\u001b[0m\u001b[0m\n",
      "\u001b[1;32m~\\.conda\\envs\\tf_gpu\\lib\\site-packages\\jieba\\posseg\\__init__.py\u001b[0m in \u001b[0;36mcut\u001b[1;34m(sentence, HMM)\u001b[0m\n\u001b[0;32m    279\u001b[0m     \u001b[1;32mglobal\u001b[0m \u001b[0mdt\u001b[0m\u001b[1;33m\u001b[0m\u001b[1;33m\u001b[0m\u001b[0m\n\u001b[0;32m    280\u001b[0m     \u001b[1;32mif\u001b[0m \u001b[0mjieba\u001b[0m\u001b[1;33m.\u001b[0m\u001b[0mpool\u001b[0m \u001b[1;32mis\u001b[0m \u001b[1;32mNone\u001b[0m\u001b[1;33m:\u001b[0m\u001b[1;33m\u001b[0m\u001b[1;33m\u001b[0m\u001b[0m\n\u001b[1;32m--> 281\u001b[1;33m         \u001b[1;32mfor\u001b[0m \u001b[0mw\u001b[0m \u001b[1;32min\u001b[0m \u001b[0mdt\u001b[0m\u001b[1;33m.\u001b[0m\u001b[0mcut\u001b[0m\u001b[1;33m(\u001b[0m\u001b[0msentence\u001b[0m\u001b[1;33m,\u001b[0m \u001b[0mHMM\u001b[0m\u001b[1;33m=\u001b[0m\u001b[0mHMM\u001b[0m\u001b[1;33m)\u001b[0m\u001b[1;33m:\u001b[0m\u001b[1;33m\u001b[0m\u001b[1;33m\u001b[0m\u001b[0m\n\u001b[0m\u001b[0;32m    282\u001b[0m             \u001b[1;32myield\u001b[0m \u001b[0mw\u001b[0m\u001b[1;33m\u001b[0m\u001b[1;33m\u001b[0m\u001b[0m\n\u001b[0;32m    283\u001b[0m     \u001b[1;32melse\u001b[0m\u001b[1;33m:\u001b[0m\u001b[1;33m\u001b[0m\u001b[1;33m\u001b[0m\u001b[0m\n",
      "\u001b[1;32m~\\.conda\\envs\\tf_gpu\\lib\\site-packages\\jieba\\posseg\\__init__.py\u001b[0m in \u001b[0;36mcut\u001b[1;34m(self, sentence, HMM)\u001b[0m\n\u001b[0;32m    247\u001b[0m \u001b[1;33m\u001b[0m\u001b[0m\n\u001b[0;32m    248\u001b[0m     \u001b[1;32mdef\u001b[0m \u001b[0mcut\u001b[0m\u001b[1;33m(\u001b[0m\u001b[0mself\u001b[0m\u001b[1;33m,\u001b[0m \u001b[0msentence\u001b[0m\u001b[1;33m,\u001b[0m \u001b[0mHMM\u001b[0m\u001b[1;33m=\u001b[0m\u001b[1;32mTrue\u001b[0m\u001b[1;33m)\u001b[0m\u001b[1;33m:\u001b[0m\u001b[1;33m\u001b[0m\u001b[1;33m\u001b[0m\u001b[0m\n\u001b[1;32m--> 249\u001b[1;33m         \u001b[1;32mfor\u001b[0m \u001b[0mw\u001b[0m \u001b[1;32min\u001b[0m \u001b[0mself\u001b[0m\u001b[1;33m.\u001b[0m\u001b[0m__cut_internal\u001b[0m\u001b[1;33m(\u001b[0m\u001b[0msentence\u001b[0m\u001b[1;33m,\u001b[0m \u001b[0mHMM\u001b[0m\u001b[1;33m=\u001b[0m\u001b[0mHMM\u001b[0m\u001b[1;33m)\u001b[0m\u001b[1;33m:\u001b[0m\u001b[1;33m\u001b[0m\u001b[1;33m\u001b[0m\u001b[0m\n\u001b[0m\u001b[0;32m    250\u001b[0m             \u001b[1;32myield\u001b[0m \u001b[0mw\u001b[0m\u001b[1;33m\u001b[0m\u001b[1;33m\u001b[0m\u001b[0m\n\u001b[0;32m    251\u001b[0m \u001b[1;33m\u001b[0m\u001b[0m\n",
      "\u001b[1;32m~\\.conda\\envs\\tf_gpu\\lib\\site-packages\\jieba\\posseg\\__init__.py\u001b[0m in \u001b[0;36m__cut_internal\u001b[1;34m(self, sentence, HMM)\u001b[0m\n\u001b[0;32m    224\u001b[0m         \u001b[1;32mfor\u001b[0m \u001b[0mblk\u001b[0m \u001b[1;32min\u001b[0m \u001b[0mblocks\u001b[0m\u001b[1;33m:\u001b[0m\u001b[1;33m\u001b[0m\u001b[1;33m\u001b[0m\u001b[0m\n\u001b[0;32m    225\u001b[0m             \u001b[1;32mif\u001b[0m \u001b[0mre_han_internal\u001b[0m\u001b[1;33m.\u001b[0m\u001b[0mmatch\u001b[0m\u001b[1;33m(\u001b[0m\u001b[0mblk\u001b[0m\u001b[1;33m)\u001b[0m\u001b[1;33m:\u001b[0m\u001b[1;33m\u001b[0m\u001b[1;33m\u001b[0m\u001b[0m\n\u001b[1;32m--> 226\u001b[1;33m                 \u001b[1;32mfor\u001b[0m \u001b[0mword\u001b[0m \u001b[1;32min\u001b[0m \u001b[0mcut_blk\u001b[0m\u001b[1;33m(\u001b[0m\u001b[0mblk\u001b[0m\u001b[1;33m)\u001b[0m\u001b[1;33m:\u001b[0m\u001b[1;33m\u001b[0m\u001b[1;33m\u001b[0m\u001b[0m\n\u001b[0m\u001b[0;32m    227\u001b[0m                     \u001b[1;32myield\u001b[0m \u001b[0mword\u001b[0m\u001b[1;33m\u001b[0m\u001b[1;33m\u001b[0m\u001b[0m\n\u001b[0;32m    228\u001b[0m             \u001b[1;32melse\u001b[0m\u001b[1;33m:\u001b[0m\u001b[1;33m\u001b[0m\u001b[1;33m\u001b[0m\u001b[0m\n",
      "\u001b[1;32m~\\.conda\\envs\\tf_gpu\\lib\\site-packages\\jieba\\posseg\\__init__.py\u001b[0m in \u001b[0;36m__cut_DAG\u001b[1;34m(self, sentence)\u001b[0m\n\u001b[0;32m    207\u001b[0m             \u001b[1;32melif\u001b[0m \u001b[1;32mnot\u001b[0m \u001b[0mself\u001b[0m\u001b[1;33m.\u001b[0m\u001b[0mtokenizer\u001b[0m\u001b[1;33m.\u001b[0m\u001b[0mFREQ\u001b[0m\u001b[1;33m.\u001b[0m\u001b[0mget\u001b[0m\u001b[1;33m(\u001b[0m\u001b[0mbuf\u001b[0m\u001b[1;33m)\u001b[0m\u001b[1;33m:\u001b[0m\u001b[1;33m\u001b[0m\u001b[1;33m\u001b[0m\u001b[0m\n\u001b[0;32m    208\u001b[0m                 \u001b[0mrecognized\u001b[0m \u001b[1;33m=\u001b[0m \u001b[0mself\u001b[0m\u001b[1;33m.\u001b[0m\u001b[0m__cut_detail\u001b[0m\u001b[1;33m(\u001b[0m\u001b[0mbuf\u001b[0m\u001b[1;33m)\u001b[0m\u001b[1;33m\u001b[0m\u001b[1;33m\u001b[0m\u001b[0m\n\u001b[1;32m--> 209\u001b[1;33m                 \u001b[1;32mfor\u001b[0m \u001b[0mt\u001b[0m \u001b[1;32min\u001b[0m \u001b[0mrecognized\u001b[0m\u001b[1;33m:\u001b[0m\u001b[1;33m\u001b[0m\u001b[1;33m\u001b[0m\u001b[0m\n\u001b[0m\u001b[0;32m    210\u001b[0m                     \u001b[1;32myield\u001b[0m \u001b[0mt\u001b[0m\u001b[1;33m\u001b[0m\u001b[1;33m\u001b[0m\u001b[0m\n\u001b[0;32m    211\u001b[0m             \u001b[1;32melse\u001b[0m\u001b[1;33m:\u001b[0m\u001b[1;33m\u001b[0m\u001b[1;33m\u001b[0m\u001b[0m\n",
      "\u001b[1;32m~\\.conda\\envs\\tf_gpu\\lib\\site-packages\\jieba\\posseg\\__init__.py\u001b[0m in \u001b[0;36m__cut_detail\u001b[1;34m(self, sentence)\u001b[0m\n\u001b[0;32m    137\u001b[0m         \u001b[1;32mfor\u001b[0m \u001b[0mblk\u001b[0m \u001b[1;32min\u001b[0m \u001b[0mblocks\u001b[0m\u001b[1;33m:\u001b[0m\u001b[1;33m\u001b[0m\u001b[1;33m\u001b[0m\u001b[0m\n\u001b[0;32m    138\u001b[0m             \u001b[1;32mif\u001b[0m \u001b[0mre_han_detail\u001b[0m\u001b[1;33m.\u001b[0m\u001b[0mmatch\u001b[0m\u001b[1;33m(\u001b[0m\u001b[0mblk\u001b[0m\u001b[1;33m)\u001b[0m\u001b[1;33m:\u001b[0m\u001b[1;33m\u001b[0m\u001b[1;33m\u001b[0m\u001b[0m\n\u001b[1;32m--> 139\u001b[1;33m                 \u001b[1;32mfor\u001b[0m \u001b[0mword\u001b[0m \u001b[1;32min\u001b[0m \u001b[0mself\u001b[0m\u001b[1;33m.\u001b[0m\u001b[0m__cut\u001b[0m\u001b[1;33m(\u001b[0m\u001b[0mblk\u001b[0m\u001b[1;33m)\u001b[0m\u001b[1;33m:\u001b[0m\u001b[1;33m\u001b[0m\u001b[1;33m\u001b[0m\u001b[0m\n\u001b[0m\u001b[0;32m    140\u001b[0m                     \u001b[1;32myield\u001b[0m \u001b[0mword\u001b[0m\u001b[1;33m\u001b[0m\u001b[1;33m\u001b[0m\u001b[0m\n\u001b[0;32m    141\u001b[0m             \u001b[1;32melse\u001b[0m\u001b[1;33m:\u001b[0m\u001b[1;33m\u001b[0m\u001b[1;33m\u001b[0m\u001b[0m\n",
      "\u001b[1;32m~\\.conda\\envs\\tf_gpu\\lib\\site-packages\\jieba\\posseg\\__init__.py\u001b[0m in \u001b[0;36m__cut\u001b[1;34m(self, sentence)\u001b[0m\n\u001b[0;32m    117\u001b[0m     \u001b[1;32mdef\u001b[0m \u001b[0m__cut\u001b[0m\u001b[1;33m(\u001b[0m\u001b[0mself\u001b[0m\u001b[1;33m,\u001b[0m \u001b[0msentence\u001b[0m\u001b[1;33m)\u001b[0m\u001b[1;33m:\u001b[0m\u001b[1;33m\u001b[0m\u001b[1;33m\u001b[0m\u001b[0m\n\u001b[0;32m    118\u001b[0m         prob, pos_list = viterbi(\n\u001b[1;32m--> 119\u001b[1;33m             sentence, char_state_tab_P, start_P, trans_P, emit_P)\n\u001b[0m\u001b[0;32m    120\u001b[0m         \u001b[0mbegin\u001b[0m\u001b[1;33m,\u001b[0m \u001b[0mnexti\u001b[0m \u001b[1;33m=\u001b[0m \u001b[1;36m0\u001b[0m\u001b[1;33m,\u001b[0m \u001b[1;36m0\u001b[0m\u001b[1;33m\u001b[0m\u001b[1;33m\u001b[0m\u001b[0m\n\u001b[0;32m    121\u001b[0m \u001b[1;33m\u001b[0m\u001b[0m\n",
      "\u001b[1;32m~\\.conda\\envs\\tf_gpu\\lib\\site-packages\\jieba\\posseg\\viterbi.py\u001b[0m in \u001b[0;36mviterbi\u001b[1;34m(obs, states, start_p, trans_p, emit_p)\u001b[0m\n\u001b[0;32m     27\u001b[0m \u001b[1;33m\u001b[0m\u001b[0m\n\u001b[0;32m     28\u001b[0m         prev_states_expect_next = set(\n\u001b[1;32m---> 29\u001b[1;33m             (y for x in prev_states for y in trans_p[x].keys()))\n\u001b[0m\u001b[0;32m     30\u001b[0m         obs_states = set(\n\u001b[0;32m     31\u001b[0m             states.get(obs[t], all_states)) & prev_states_expect_next\n",
      "\u001b[1;32m~\\.conda\\envs\\tf_gpu\\lib\\site-packages\\jieba\\posseg\\viterbi.py\u001b[0m in \u001b[0;36m<genexpr>\u001b[1;34m(.0)\u001b[0m\n\u001b[0;32m     27\u001b[0m \u001b[1;33m\u001b[0m\u001b[0m\n\u001b[0;32m     28\u001b[0m         prev_states_expect_next = set(\n\u001b[1;32m---> 29\u001b[1;33m             (y for x in prev_states for y in trans_p[x].keys()))\n\u001b[0m\u001b[0;32m     30\u001b[0m         obs_states = set(\n\u001b[0;32m     31\u001b[0m             states.get(obs[t], all_states)) & prev_states_expect_next\n",
      "\u001b[1;31mKeyboardInterrupt\u001b[0m: "
     ]
    }
   ],
   "source": [
    "for i, (word, flag) in enumerate(sent):\n",
    "    if i % 1000 ==0:\n",
    "        print(i)\n",
    "    if flag == 'v':\n",
    "        pass\n",
    "        #sent_.append(word)"
   ]
  },
  {
   "cell_type": "code",
   "execution_count": 44,
   "metadata": {},
   "outputs": [
    {
     "ename": "KeyboardInterrupt",
     "evalue": "",
     "output_type": "error",
     "traceback": [
      "\u001b[1;31m---------------------------------------------------------------------------\u001b[0m",
      "\u001b[1;31mKeyboardInterrupt\u001b[0m                         Traceback (most recent call last)",
      "\u001b[1;32m<ipython-input-44-1093bf7f8f04>\u001b[0m in \u001b[0;36m<module>\u001b[1;34m\u001b[0m\n\u001b[0;32m      1\u001b[0m \u001b[0msent_\u001b[0m \u001b[1;33m=\u001b[0m \u001b[1;33m[\u001b[0m\u001b[1;33m]\u001b[0m\u001b[1;33m\u001b[0m\u001b[1;33m\u001b[0m\u001b[0m\n\u001b[0;32m      2\u001b[0m \u001b[0msent\u001b[0m \u001b[1;33m=\u001b[0m \u001b[0mpseg\u001b[0m\u001b[1;33m.\u001b[0m\u001b[0mcut\u001b[0m\u001b[1;33m(\u001b[0m\u001b[0mNC_Content_List_Join\u001b[0m\u001b[1;33m.\u001b[0m\u001b[0mreplace\u001b[0m\u001b[1;33m(\u001b[0m\u001b[1;34m\"。\"\u001b[0m\u001b[1;33m,\u001b[0m \u001b[1;34m\"\"\u001b[0m\u001b[1;33m)\u001b[0m\u001b[1;33m)\u001b[0m\u001b[1;33m\u001b[0m\u001b[1;33m\u001b[0m\u001b[0m\n\u001b[1;32m----> 3\u001b[1;33m \u001b[1;32mfor\u001b[0m \u001b[0mword\u001b[0m\u001b[1;33m,\u001b[0m \u001b[0mflag\u001b[0m \u001b[1;32min\u001b[0m \u001b[0msent\u001b[0m\u001b[1;33m:\u001b[0m\u001b[1;33m\u001b[0m\u001b[1;33m\u001b[0m\u001b[0m\n\u001b[0m\u001b[0;32m      4\u001b[0m     \u001b[1;32mif\u001b[0m \u001b[0mflag\u001b[0m \u001b[1;33m==\u001b[0m \u001b[1;34m'v'\u001b[0m\u001b[1;33m:\u001b[0m\u001b[1;33m\u001b[0m\u001b[1;33m\u001b[0m\u001b[0m\n\u001b[0;32m      5\u001b[0m         \u001b[0msent_\u001b[0m\u001b[1;33m.\u001b[0m\u001b[0mappend\u001b[0m\u001b[1;33m(\u001b[0m\u001b[0mword\u001b[0m\u001b[1;33m)\u001b[0m\u001b[1;33m\u001b[0m\u001b[1;33m\u001b[0m\u001b[0m\n",
      "\u001b[1;32m~\\.conda\\envs\\tf_gpu\\lib\\site-packages\\jieba\\posseg\\__init__.py\u001b[0m in \u001b[0;36mcut\u001b[1;34m(sentence, HMM)\u001b[0m\n\u001b[0;32m    279\u001b[0m     \u001b[1;32mglobal\u001b[0m \u001b[0mdt\u001b[0m\u001b[1;33m\u001b[0m\u001b[1;33m\u001b[0m\u001b[0m\n\u001b[0;32m    280\u001b[0m     \u001b[1;32mif\u001b[0m \u001b[0mjieba\u001b[0m\u001b[1;33m.\u001b[0m\u001b[0mpool\u001b[0m \u001b[1;32mis\u001b[0m \u001b[1;32mNone\u001b[0m\u001b[1;33m:\u001b[0m\u001b[1;33m\u001b[0m\u001b[1;33m\u001b[0m\u001b[0m\n\u001b[1;32m--> 281\u001b[1;33m         \u001b[1;32mfor\u001b[0m \u001b[0mw\u001b[0m \u001b[1;32min\u001b[0m \u001b[0mdt\u001b[0m\u001b[1;33m.\u001b[0m\u001b[0mcut\u001b[0m\u001b[1;33m(\u001b[0m\u001b[0msentence\u001b[0m\u001b[1;33m,\u001b[0m \u001b[0mHMM\u001b[0m\u001b[1;33m=\u001b[0m\u001b[0mHMM\u001b[0m\u001b[1;33m)\u001b[0m\u001b[1;33m:\u001b[0m\u001b[1;33m\u001b[0m\u001b[1;33m\u001b[0m\u001b[0m\n\u001b[0m\u001b[0;32m    282\u001b[0m             \u001b[1;32myield\u001b[0m \u001b[0mw\u001b[0m\u001b[1;33m\u001b[0m\u001b[1;33m\u001b[0m\u001b[0m\n\u001b[0;32m    283\u001b[0m     \u001b[1;32melse\u001b[0m\u001b[1;33m:\u001b[0m\u001b[1;33m\u001b[0m\u001b[1;33m\u001b[0m\u001b[0m\n",
      "\u001b[1;32m~\\.conda\\envs\\tf_gpu\\lib\\site-packages\\jieba\\posseg\\__init__.py\u001b[0m in \u001b[0;36mcut\u001b[1;34m(self, sentence, HMM)\u001b[0m\n\u001b[0;32m    247\u001b[0m \u001b[1;33m\u001b[0m\u001b[0m\n\u001b[0;32m    248\u001b[0m     \u001b[1;32mdef\u001b[0m \u001b[0mcut\u001b[0m\u001b[1;33m(\u001b[0m\u001b[0mself\u001b[0m\u001b[1;33m,\u001b[0m \u001b[0msentence\u001b[0m\u001b[1;33m,\u001b[0m \u001b[0mHMM\u001b[0m\u001b[1;33m=\u001b[0m\u001b[1;32mTrue\u001b[0m\u001b[1;33m)\u001b[0m\u001b[1;33m:\u001b[0m\u001b[1;33m\u001b[0m\u001b[1;33m\u001b[0m\u001b[0m\n\u001b[1;32m--> 249\u001b[1;33m         \u001b[1;32mfor\u001b[0m \u001b[0mw\u001b[0m \u001b[1;32min\u001b[0m \u001b[0mself\u001b[0m\u001b[1;33m.\u001b[0m\u001b[0m__cut_internal\u001b[0m\u001b[1;33m(\u001b[0m\u001b[0msentence\u001b[0m\u001b[1;33m,\u001b[0m \u001b[0mHMM\u001b[0m\u001b[1;33m=\u001b[0m\u001b[0mHMM\u001b[0m\u001b[1;33m)\u001b[0m\u001b[1;33m:\u001b[0m\u001b[1;33m\u001b[0m\u001b[1;33m\u001b[0m\u001b[0m\n\u001b[0m\u001b[0;32m    250\u001b[0m             \u001b[1;32myield\u001b[0m \u001b[0mw\u001b[0m\u001b[1;33m\u001b[0m\u001b[1;33m\u001b[0m\u001b[0m\n\u001b[0;32m    251\u001b[0m \u001b[1;33m\u001b[0m\u001b[0m\n",
      "\u001b[1;32m~\\.conda\\envs\\tf_gpu\\lib\\site-packages\\jieba\\posseg\\__init__.py\u001b[0m in \u001b[0;36m__cut_internal\u001b[1;34m(self, sentence, HMM)\u001b[0m\n\u001b[0;32m    224\u001b[0m         \u001b[1;32mfor\u001b[0m \u001b[0mblk\u001b[0m \u001b[1;32min\u001b[0m \u001b[0mblocks\u001b[0m\u001b[1;33m:\u001b[0m\u001b[1;33m\u001b[0m\u001b[1;33m\u001b[0m\u001b[0m\n\u001b[0;32m    225\u001b[0m             \u001b[1;32mif\u001b[0m \u001b[0mre_han_internal\u001b[0m\u001b[1;33m.\u001b[0m\u001b[0mmatch\u001b[0m\u001b[1;33m(\u001b[0m\u001b[0mblk\u001b[0m\u001b[1;33m)\u001b[0m\u001b[1;33m:\u001b[0m\u001b[1;33m\u001b[0m\u001b[1;33m\u001b[0m\u001b[0m\n\u001b[1;32m--> 226\u001b[1;33m                 \u001b[1;32mfor\u001b[0m \u001b[0mword\u001b[0m \u001b[1;32min\u001b[0m \u001b[0mcut_blk\u001b[0m\u001b[1;33m(\u001b[0m\u001b[0mblk\u001b[0m\u001b[1;33m)\u001b[0m\u001b[1;33m:\u001b[0m\u001b[1;33m\u001b[0m\u001b[1;33m\u001b[0m\u001b[0m\n\u001b[0m\u001b[0;32m    227\u001b[0m                     \u001b[1;32myield\u001b[0m \u001b[0mword\u001b[0m\u001b[1;33m\u001b[0m\u001b[1;33m\u001b[0m\u001b[0m\n\u001b[0;32m    228\u001b[0m             \u001b[1;32melse\u001b[0m\u001b[1;33m:\u001b[0m\u001b[1;33m\u001b[0m\u001b[1;33m\u001b[0m\u001b[0m\n",
      "\u001b[1;32m~\\.conda\\envs\\tf_gpu\\lib\\site-packages\\jieba\\posseg\\__init__.py\u001b[0m in \u001b[0;36m__cut_DAG\u001b[1;34m(self, sentence)\u001b[0m\n\u001b[0;32m    193\u001b[0m                     \u001b[1;32melif\u001b[0m \u001b[1;32mnot\u001b[0m \u001b[0mself\u001b[0m\u001b[1;33m.\u001b[0m\u001b[0mtokenizer\u001b[0m\u001b[1;33m.\u001b[0m\u001b[0mFREQ\u001b[0m\u001b[1;33m.\u001b[0m\u001b[0mget\u001b[0m\u001b[1;33m(\u001b[0m\u001b[0mbuf\u001b[0m\u001b[1;33m)\u001b[0m\u001b[1;33m:\u001b[0m\u001b[1;33m\u001b[0m\u001b[1;33m\u001b[0m\u001b[0m\n\u001b[0;32m    194\u001b[0m                         \u001b[0mrecognized\u001b[0m \u001b[1;33m=\u001b[0m \u001b[0mself\u001b[0m\u001b[1;33m.\u001b[0m\u001b[0m__cut_detail\u001b[0m\u001b[1;33m(\u001b[0m\u001b[0mbuf\u001b[0m\u001b[1;33m)\u001b[0m\u001b[1;33m\u001b[0m\u001b[1;33m\u001b[0m\u001b[0m\n\u001b[1;32m--> 195\u001b[1;33m                         \u001b[1;32mfor\u001b[0m \u001b[0mt\u001b[0m \u001b[1;32min\u001b[0m \u001b[0mrecognized\u001b[0m\u001b[1;33m:\u001b[0m\u001b[1;33m\u001b[0m\u001b[1;33m\u001b[0m\u001b[0m\n\u001b[0m\u001b[0;32m    196\u001b[0m                             \u001b[1;32myield\u001b[0m \u001b[0mt\u001b[0m\u001b[1;33m\u001b[0m\u001b[1;33m\u001b[0m\u001b[0m\n\u001b[0;32m    197\u001b[0m                     \u001b[1;32melse\u001b[0m\u001b[1;33m:\u001b[0m\u001b[1;33m\u001b[0m\u001b[1;33m\u001b[0m\u001b[0m\n",
      "\u001b[1;32m~\\.conda\\envs\\tf_gpu\\lib\\site-packages\\jieba\\posseg\\__init__.py\u001b[0m in \u001b[0;36m__cut_detail\u001b[1;34m(self, sentence)\u001b[0m\n\u001b[0;32m    137\u001b[0m         \u001b[1;32mfor\u001b[0m \u001b[0mblk\u001b[0m \u001b[1;32min\u001b[0m \u001b[0mblocks\u001b[0m\u001b[1;33m:\u001b[0m\u001b[1;33m\u001b[0m\u001b[1;33m\u001b[0m\u001b[0m\n\u001b[0;32m    138\u001b[0m             \u001b[1;32mif\u001b[0m \u001b[0mre_han_detail\u001b[0m\u001b[1;33m.\u001b[0m\u001b[0mmatch\u001b[0m\u001b[1;33m(\u001b[0m\u001b[0mblk\u001b[0m\u001b[1;33m)\u001b[0m\u001b[1;33m:\u001b[0m\u001b[1;33m\u001b[0m\u001b[1;33m\u001b[0m\u001b[0m\n\u001b[1;32m--> 139\u001b[1;33m                 \u001b[1;32mfor\u001b[0m \u001b[0mword\u001b[0m \u001b[1;32min\u001b[0m \u001b[0mself\u001b[0m\u001b[1;33m.\u001b[0m\u001b[0m__cut\u001b[0m\u001b[1;33m(\u001b[0m\u001b[0mblk\u001b[0m\u001b[1;33m)\u001b[0m\u001b[1;33m:\u001b[0m\u001b[1;33m\u001b[0m\u001b[1;33m\u001b[0m\u001b[0m\n\u001b[0m\u001b[0;32m    140\u001b[0m                     \u001b[1;32myield\u001b[0m \u001b[0mword\u001b[0m\u001b[1;33m\u001b[0m\u001b[1;33m\u001b[0m\u001b[0m\n\u001b[0;32m    141\u001b[0m             \u001b[1;32melse\u001b[0m\u001b[1;33m:\u001b[0m\u001b[1;33m\u001b[0m\u001b[1;33m\u001b[0m\u001b[0m\n",
      "\u001b[1;32m~\\.conda\\envs\\tf_gpu\\lib\\site-packages\\jieba\\posseg\\__init__.py\u001b[0m in \u001b[0;36m__cut\u001b[1;34m(self, sentence)\u001b[0m\n\u001b[0;32m    117\u001b[0m     \u001b[1;32mdef\u001b[0m \u001b[0m__cut\u001b[0m\u001b[1;33m(\u001b[0m\u001b[0mself\u001b[0m\u001b[1;33m,\u001b[0m \u001b[0msentence\u001b[0m\u001b[1;33m)\u001b[0m\u001b[1;33m:\u001b[0m\u001b[1;33m\u001b[0m\u001b[1;33m\u001b[0m\u001b[0m\n\u001b[0;32m    118\u001b[0m         prob, pos_list = viterbi(\n\u001b[1;32m--> 119\u001b[1;33m             sentence, char_state_tab_P, start_P, trans_P, emit_P)\n\u001b[0m\u001b[0;32m    120\u001b[0m         \u001b[0mbegin\u001b[0m\u001b[1;33m,\u001b[0m \u001b[0mnexti\u001b[0m \u001b[1;33m=\u001b[0m \u001b[1;36m0\u001b[0m\u001b[1;33m,\u001b[0m \u001b[1;36m0\u001b[0m\u001b[1;33m\u001b[0m\u001b[1;33m\u001b[0m\u001b[0m\n\u001b[0;32m    121\u001b[0m \u001b[1;33m\u001b[0m\u001b[0m\n",
      "\u001b[1;32m~\\.conda\\envs\\tf_gpu\\lib\\site-packages\\jieba\\posseg\\viterbi.py\u001b[0m in \u001b[0;36mviterbi\u001b[1;34m(obs, states, start_p, trans_p, emit_p)\u001b[0m\n\u001b[0;32m     36\u001b[0m         \u001b[1;32mfor\u001b[0m \u001b[0my\u001b[0m \u001b[1;32min\u001b[0m \u001b[0mobs_states\u001b[0m\u001b[1;33m:\u001b[0m\u001b[1;33m\u001b[0m\u001b[1;33m\u001b[0m\u001b[0m\n\u001b[0;32m     37\u001b[0m             prob, state = max((V[t - 1][y0] + trans_p[y0].get(y, MIN_INF) +\n\u001b[1;32m---> 38\u001b[1;33m                                emit_p[y].get(obs[t], MIN_FLOAT), y0) for y0 in prev_states)\n\u001b[0m\u001b[0;32m     39\u001b[0m             \u001b[0mV\u001b[0m\u001b[1;33m[\u001b[0m\u001b[0mt\u001b[0m\u001b[1;33m]\u001b[0m\u001b[1;33m[\u001b[0m\u001b[0my\u001b[0m\u001b[1;33m]\u001b[0m \u001b[1;33m=\u001b[0m \u001b[0mprob\u001b[0m\u001b[1;33m\u001b[0m\u001b[1;33m\u001b[0m\u001b[0m\n\u001b[0;32m     40\u001b[0m             \u001b[0mmem_path\u001b[0m\u001b[1;33m[\u001b[0m\u001b[0mt\u001b[0m\u001b[1;33m]\u001b[0m\u001b[1;33m[\u001b[0m\u001b[0my\u001b[0m\u001b[1;33m]\u001b[0m \u001b[1;33m=\u001b[0m \u001b[0mstate\u001b[0m\u001b[1;33m\u001b[0m\u001b[1;33m\u001b[0m\u001b[0m\n",
      "\u001b[1;32m~\\.conda\\envs\\tf_gpu\\lib\\site-packages\\jieba\\posseg\\viterbi.py\u001b[0m in \u001b[0;36m<genexpr>\u001b[1;34m(.0)\u001b[0m\n\u001b[0;32m     36\u001b[0m         \u001b[1;32mfor\u001b[0m \u001b[0my\u001b[0m \u001b[1;32min\u001b[0m \u001b[0mobs_states\u001b[0m\u001b[1;33m:\u001b[0m\u001b[1;33m\u001b[0m\u001b[1;33m\u001b[0m\u001b[0m\n\u001b[0;32m     37\u001b[0m             prob, state = max((V[t - 1][y0] + trans_p[y0].get(y, MIN_INF) +\n\u001b[1;32m---> 38\u001b[1;33m                                emit_p[y].get(obs[t], MIN_FLOAT), y0) for y0 in prev_states)\n\u001b[0m\u001b[0;32m     39\u001b[0m             \u001b[0mV\u001b[0m\u001b[1;33m[\u001b[0m\u001b[0mt\u001b[0m\u001b[1;33m]\u001b[0m\u001b[1;33m[\u001b[0m\u001b[0my\u001b[0m\u001b[1;33m]\u001b[0m \u001b[1;33m=\u001b[0m \u001b[0mprob\u001b[0m\u001b[1;33m\u001b[0m\u001b[1;33m\u001b[0m\u001b[0m\n\u001b[0;32m     40\u001b[0m             \u001b[0mmem_path\u001b[0m\u001b[1;33m[\u001b[0m\u001b[0mt\u001b[0m\u001b[1;33m]\u001b[0m\u001b[1;33m[\u001b[0m\u001b[0my\u001b[0m\u001b[1;33m]\u001b[0m \u001b[1;33m=\u001b[0m \u001b[0mstate\u001b[0m\u001b[1;33m\u001b[0m\u001b[1;33m\u001b[0m\u001b[0m\n",
      "\u001b[1;31mKeyboardInterrupt\u001b[0m: "
     ]
    }
   ],
   "source": [
    "sent_ = []\n",
    "sent = pseg.cut(NC_Content_List_Join.replace(\"。\", \"\")) \n",
    "for word, flag in sent:\n",
    "    if flag == 'v':\n",
    "        sent_.append(word)\n",
    "verb = \"\".join(sent_)\n",
    "verblist = get_words(verb)"
   ]
  },
  {
   "cell_type": "code",
   "execution_count": null,
   "metadata": {},
   "outputs": [],
   "source": [
    "print(verblist)"
   ]
  },
  {
   "cell_type": "code",
   "execution_count": null,
   "metadata": {},
   "outputs": [],
   "source": [
    "sent_ = []\n",
    "sent = pseg.cut(words.replace(\"。\", \"\"))\n",
    "for word, flag in sent:\n",
    "    if flag == 'n':\n",
    "        sent_.append(word)\n",
    "noun = \"\".join(sent_)\n",
    "nounlist = get_words(noun)"
   ]
  },
  {
   "cell_type": "code",
   "execution_count": null,
   "metadata": {},
   "outputs": [],
   "source": [
    "print(nounlist)"
   ]
  },
  {
   "cell_type": "code",
   "execution_count": null,
   "metadata": {},
   "outputs": [],
   "source": [
    "for i in verblist:\n",
    "    model.wv.most_similar (positive=i,topn=20)"
   ]
  },
  {
   "cell_type": "code",
   "execution_count": null,
   "metadata": {},
   "outputs": [],
   "source": [
    "for i in nounlist:\n",
    "    model.wv.most_similar (positive=i,topn=20)"
   ]
  },
  {
   "cell_type": "code",
   "execution_count": null,
   "metadata": {},
   "outputs": [],
   "source": [
    "model_seed = gensim.models.Word2Vec (documents, size=150, window=10, min_count=2,\n",
    "                                seed=13799, workers=10)\n",
    "#model.train(documents,total_examples=len(documents),epochs=10)"
   ]
  },
  {
   "cell_type": "code",
   "execution_count": null,
   "metadata": {},
   "outputs": [],
   "source": [
    "for i in verblist:\n",
    "    model_seed.wv.most_similar (positive=i,topn=20)"
   ]
  },
  {
   "cell_type": "code",
   "execution_count": null,
   "metadata": {},
   "outputs": [],
   "source": [
    "for i in nounlist:\n",
    "    model_seed.wv.most_similar (positive=i,topn=20)"
   ]
  },
  {
   "cell_type": "code",
   "execution_count": null,
   "metadata": {},
   "outputs": [],
   "source": []
  }
 ],
 "metadata": {
  "kernelspec": {
   "display_name": "Python 3",
   "language": "python",
   "name": "python3"
  },
  "language_info": {
   "codemirror_mode": {
    "name": "ipython",
    "version": 3
   },
   "file_extension": ".py",
   "mimetype": "text/x-python",
   "name": "python",
   "nbconvert_exporter": "python",
   "pygments_lexer": "ipython3",
   "version": "3.7.1"
  }
 },
 "nbformat": 4,
 "nbformat_minor": 2
}
