{
 "cells": [
  {
   "cell_type": "markdown",
   "metadata": {},
   "source": [
    "# Text Analysis with Deep Learning\n",
    "#### Word2Vec of Gensim\n",
    "##### prepared by Chao-Lin Liu\n",
    "實際執行 simple.word2vec.ipynb，觀察和比較設定不同 seed 的時候所得到的 word vectors 和 most_similar 詞彙"
   ]
  },
  {
   "cell_type": "code",
   "execution_count": 1,
   "metadata": {},
   "outputs": [],
   "source": [
    "import numpy as np\n",
    "import nltk\n",
    "import warnings\n",
    "warnings.filterwarnings(action='ignore', category=UserWarning, module='gensim')\n",
    "from gensim.models import Word2Vec"
   ]
  },
  {
   "cell_type": "code",
   "execution_count": 2,
   "metadata": {},
   "outputs": [
    {
     "data": {
      "text/plain": [
       "\"nltk.download('brown')\\nsentences = nltk.brown.sents()\""
      ]
     },
     "execution_count": 2,
     "metadata": {},
     "output_type": "execute_result"
    }
   ],
   "source": [
    "from nltk.corpus import brown\n",
    "sentences = brown.sents()\n",
    "\"\"\"nltk.download('brown')\n",
    "sentences = nltk.brown.sents()\"\"\""
   ]
  },
  {
   "cell_type": "code",
   "execution_count": 3,
   "metadata": {},
   "outputs": [
    {
     "data": {
      "text/plain": [
       "57340"
      ]
     },
     "execution_count": 3,
     "metadata": {},
     "output_type": "execute_result"
    }
   ],
   "source": [
    "len(sentences)"
   ]
  },
  {
   "cell_type": "code",
   "execution_count": 4,
   "metadata": {},
   "outputs": [
    {
     "name": "stdout",
     "output_type": "stream",
     "text": [
      "['The', 'Fulton', 'County', 'Grand', 'Jury', 'said', 'Friday', 'an', 'investigation', 'of', \"Atlanta's\", 'recent', 'primary', 'election', 'produced', '``', 'no', 'evidence', \"''\", 'that', 'any', 'irregularities', 'took', 'place', '.']\n"
     ]
    }
   ],
   "source": [
    "print(sentences[0])"
   ]
  },
  {
   "cell_type": "markdown",
   "metadata": {},
   "source": [
    "# NO SEED "
   ]
  },
  {
   "cell_type": "code",
   "execution_count": 13,
   "metadata": {},
   "outputs": [
    {
     "name": "stdout",
     "output_type": "stream",
     "text": [
      "County\n"
     ]
    },
    {
     "data": {
      "text/plain": [
       "array([ 0.65429693, -0.07984881,  2.0935822 ,  0.24326402, -1.4334669 ,\n",
       "        0.6531443 , -0.23059085, -0.17957392,  0.430512  ,  0.2892541 ],\n",
       "      dtype=float32)"
      ]
     },
     "execution_count": 13,
     "metadata": {},
     "output_type": "execute_result"
    }
   ],
   "source": [
    "model = Word2Vec(sentences, size=10, window=5, min_count=5, workers=4)\n",
    "word = sentences[0][2]\n",
    "print(word)\n",
    "model.wv[word]"
   ]
  },
  {
   "cell_type": "code",
   "execution_count": 20,
   "metadata": {},
   "outputs": [
    {
     "name": "stdout",
     "output_type": "stream",
     "text": [
      "County\n"
     ]
    },
    {
     "data": {
      "text/plain": [
       "array([ 0.36342672, -0.14834179,  2.1629977 ,  0.18508191, -1.2519689 ,\n",
       "        0.7949608 , -0.42402762, -0.20449197,  0.5653986 ,  0.34473264],\n",
       "      dtype=float32)"
      ]
     },
     "execution_count": 20,
     "metadata": {},
     "output_type": "execute_result"
    }
   ],
   "source": [
    "model = Word2Vec(sentences, size=10, window=5, min_count=5, workers=4)\n",
    "word = sentences[0][2]\n",
    "print(word)\n",
    "model.wv[word]"
   ]
  },
  {
   "cell_type": "code",
   "execution_count": 21,
   "metadata": {},
   "outputs": [
    {
     "name": "stdout",
     "output_type": "stream",
     "text": [
      "County\n"
     ]
    },
    {
     "data": {
      "text/plain": [
       "array([ 0.36190233, -0.14801641,  2.1632452 ,  0.18438667, -1.251293  ,\n",
       "        0.7943459 , -0.42399263, -0.20529467,  0.5652424 ,  0.34495622],\n",
       "      dtype=float32)"
      ]
     },
     "execution_count": 21,
     "metadata": {},
     "output_type": "execute_result"
    }
   ],
   "source": [
    "model = Word2Vec(sentences, size=10, window=5, min_count=5, workers=4)\n",
    "word = sentences[0][2]\n",
    "print(word)\n",
    "model.wv[word]"
   ]
  },
  {
   "cell_type": "markdown",
   "metadata": {},
   "source": [
    "# SET SEED "
   ]
  },
  {
   "cell_type": "code",
   "execution_count": 8,
   "metadata": {},
   "outputs": [
    {
     "name": "stdout",
     "output_type": "stream",
     "text": [
      "[ 0.35758796 -0.18709922 -1.923513    0.56617725  0.30025285 -0.76402533\n",
      "  0.03054788  0.28180197  0.8536184  -1.353928  ]\n",
      "[('Five', 0.9913148283958435), ('African', 0.983959436416626), ('oats', 0.9835845232009888), ('battery', 0.9828112721443176), ('sheets', 0.9813694953918457), ('Christiana', 0.9813220500946045), ('dried', 0.9804035425186157), ('Connecticut', 0.9803886413574219), ('novels', 0.9802207350730896), ('native', 0.9787846207618713)]\n",
      "[('old', 0.9499943256378174), ('girl', 0.9315322637557983), ('later', 0.931277334690094), ('idol', 0.928605318069458), ('ants', 0.9233850836753845), ('man', 0.9189172983169556)]\n",
      "[ 0.3559083  -0.18807046 -1.926034    0.56373966  0.30064017 -0.7650536\n",
      "  0.02879772  0.27959588  0.85343754 -1.3512596 ]\n",
      "[('Five', 0.9912093877792358), ('African', 0.9841413497924805), ('oats', 0.983575701713562), ('battery', 0.9828243255615234), ('Christiana', 0.9813867807388306), ('sheets', 0.981371283531189), ('Connecticut', 0.9803614020347595), ('dried', 0.9803469181060791), ('novels', 0.9801826477050781), ('native', 0.9787182807922363)]\n",
      "[('old', 0.9500452280044556), ('girl', 0.9314559698104858), ('later', 0.9312456846237183), ('idol', 0.9278628826141357), ('ants', 0.9236134886741638), ('man', 0.9189050793647766)]\n"
     ]
    }
   ],
   "source": [
    "def Seed10():\n",
    "    model = Word2Vec(sentences, size=10, window=5, min_count=5, seed=10, workers=4)\n",
    "    word = sentences[0][2]\n",
    "    print(model.wv[word])\n",
    "    print(model.wv.most_similar(positive=['king', 'woman'], negative=['man']))\n",
    "    print(model.wv.most_similar(positive='woman', topn=6))\n",
    "Seed10()\n",
    "Seed10()"
   ]
  },
  {
   "cell_type": "code",
   "execution_count": 9,
   "metadata": {},
   "outputs": [
    {
     "name": "stdout",
     "output_type": "stream",
     "text": [
      "[-0.4074197  -0.5889045   0.9373986  -2.0423348   0.5235341   0.09688015\n",
      " -0.8838962  -0.02142726  1.0642881  -0.26973176]\n",
      "[('clergy', 0.9880765676498413), ('departure', 0.9840799570083618), ('tournament', 0.9824856519699097), ('Funeral', 0.9809122681617737), ('Into', 0.9803223609924316), ('Pacific', 0.9791514873504639), ('all-Negro', 0.978846549987793), ('bathroom', 0.9785056114196777), ('representing', 0.9781484007835388), ('13th', 0.9780677556991577)]\n",
      "[('girl', 0.9685231447219849), ('boy', 0.9477748274803162), ('moment', 0.9413834810256958), ('frivolous', 0.9360778331756592), ('mind', 0.9334961175918579), ('child', 0.9304489493370056)]\n",
      "[-0.4062947  -0.5864132   0.9371663  -2.0428739   0.5268765   0.09895529\n",
      " -0.88219    -0.02118623  1.0657434  -0.27069065]\n",
      "[('clergy', 0.9880771040916443), ('departure', 0.9841012954711914), ('tournament', 0.9825217127799988), ('Funeral', 0.9808411598205566), ('Into', 0.9803279042243958), ('Pacific', 0.9791600704193115), ('all-Negro', 0.978812575340271), ('bathroom', 0.9785220623016357), ('representing', 0.9781736135482788), ('13th', 0.9781140089035034)]\n",
      "[('girl', 0.9685068130493164), ('boy', 0.9479377269744873), ('moment', 0.9413514733314514), ('frivolous', 0.9360312819480896), ('mind', 0.933427095413208), ('child', 0.9304308295249939)]\n"
     ]
    }
   ],
   "source": [
    "def Seed100():\n",
    "    model = Word2Vec(sentences, size=10, window=5, min_count=5, seed=100, workers=4)\n",
    "    word = sentences[0][2]\n",
    "    print(model.wv[word])\n",
    "    print(model.wv.most_similar(positive=['king', 'woman'], negative=['man']))\n",
    "    print(model.wv.most_similar(positive='woman', topn=6))\n",
    "Seed100()\n",
    "Seed100()"
   ]
  },
  {
   "cell_type": "code",
   "execution_count": null,
   "metadata": {},
   "outputs": [],
   "source": []
  }
 ],
 "metadata": {
  "kernelspec": {
   "display_name": "Python 3",
   "language": "python",
   "name": "python3"
  },
  "language_info": {
   "codemirror_mode": {
    "name": "ipython",
    "version": 3
   },
   "file_extension": ".py",
   "mimetype": "text/x-python",
   "name": "python",
   "nbconvert_exporter": "python",
   "pygments_lexer": "ipython3",
   "version": "3.7.3"
  }
 },
 "nbformat": 4,
 "nbformat_minor": 2
}
