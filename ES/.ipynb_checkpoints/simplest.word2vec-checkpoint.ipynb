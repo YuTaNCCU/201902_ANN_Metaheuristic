{
 "cells": [
  {
   "cell_type": "markdown",
   "metadata": {},
   "source": [
    "# TADL@NCCU\n",
    "## 這一份資料提供一些很基本的 word2vec 的範例"
   ]
  },
  {
   "cell_type": "markdown",
   "metadata": {},
   "source": [
    "### 案例一\n",
    "#### 以下範例來自以下網址\n",
    "##### https://radimrehurek.com/gensim/models/word2vec.html"
   ]
  },
  {
   "cell_type": "code",
   "execution_count": null,
   "metadata": {},
   "outputs": [],
   "source": [
    "from gensim.test.utils import common_texts\n",
    "from gensim.models import Word2Vec\n",
    "model = Word2Vec(common_texts, size=100, window=5, min_count=1, workers=4)"
   ]
  },
  {
   "cell_type": "code",
   "execution_count": null,
   "metadata": {},
   "outputs": [],
   "source": [
    "common_texts"
   ]
  },
  {
   "cell_type": "code",
   "execution_count": null,
   "metadata": {},
   "outputs": [],
   "source": [
    "model.wv[\"human\"]"
   ]
  },
  {
   "cell_type": "markdown",
   "metadata": {},
   "source": [
    "### 案例二\n",
    "#### 模仿以上簡單的例子，可以產生中文的 word vectors\n",
    "##### prepared by Chao-Lin Liu"
   ]
  },
  {
   "cell_type": "code",
   "execution_count": null,
   "metadata": {},
   "outputs": [],
   "source": [
    "# -*- coding: utf-8 -*-\n",
    "import gensim\n",
    "\n",
    "csent0 = [\"雙溪區\", \"北\", \"以\", \"草山\", \"大平林山\", \"與\", \"瑞芳區\", \"交界\"]\n",
    "csent1 = [\"西接\", \"平溪區\"]\n",
    "csent2 = [\"南以\", \"海拔\", \"四百\", \"到\", \"百\", \"公尺\", \"不等\", \"伏獅山脈海\", \"與\", \"坪林區\", \"相鄰\"]\n",
    "csent3 = [\"東\", \"則\", \"以\", \"雙溪川\", \"中游\", \"的\", \"長潭\", \"為\", \"分斷點\", \"和\", \"貢寮區\", \"為界\"]\n",
    "csent4 = [\"東南\", \"以\", \"雪山\", \"山脈\", \"北段\", \"鶯子嶺\", \"與\", \"宜蘭縣\", \"交界\"]\n",
    "csent5 = [\"海拔\", \"最高點\", \"是\", \"鶯子嶺\", \"的\", \"847\", \"公尺\"]\n",
    "csent6 = [\"最低點\", \"不到\", \"50\", \"公尺\", \"多\", \"丘陵\", \"地形\"]\n",
    "csent7 = [\"雙溪區\", \"境內\", \"有\", \"平林溪\", \"與\", \"牡丹溪\", \"兩條\", \"主要\", \"溪流\"]\n",
    "csent8 = [\"平林溪\", \"發源\", \"於\", \"本區\", \"之\", \"海拔\", \"約\", \"四百公尺\", \"盤山坑\", \"山區\"]\n",
    "csent9 = [\"經\", \"柑腳\", \"外柑腳\", \"上林\", \"平林\", \"到\", \"雙溪里\", \"與\", \"牡丹溪\", \"匯流\", \"成\", \"雙溪河\"]\n",
    "\n",
    "sentences = [csent0, csent1, csent2, csent3, csent4, csent5, csent6, csent7, csent8, csent9]\n",
    "modelsg = gensim.models.Word2Vec(sentences, size=10, window=5, min_count=1, sg=1)\n",
    "modelcbow = gensim.models.Word2Vec(sentences, size=10, window=5, min_count=1, sg=0)"
   ]
  },
  {
   "cell_type": "code",
   "execution_count": null,
   "metadata": {},
   "outputs": [],
   "source": [
    "sentences"
   ]
  },
  {
   "cell_type": "code",
   "execution_count": null,
   "metadata": {},
   "outputs": [],
   "source": [
    "modelsg.wv[\"雙溪區\"]"
   ]
  },
  {
   "cell_type": "code",
   "execution_count": null,
   "metadata": {},
   "outputs": [],
   "source": [
    "modelcbow.wv[\"雙溪區\"]"
   ]
  },
  {
   "cell_type": "code",
   "execution_count": null,
   "metadata": {},
   "outputs": [],
   "source": [
    "modelsg.wv.most_similar(\"雙溪區\")"
   ]
  },
  {
   "cell_type": "code",
   "execution_count": null,
   "metadata": {},
   "outputs": [],
   "source": [
    "modelcbow.wv.most_similar(\"雙溪區\")"
   ]
  },
  {
   "cell_type": "markdown",
   "metadata": {},
   "source": [
    "### 案例三\n",
    "#### 以下是一個以英文資料為例的簡單例子\n",
    "##### 來源網址：https://gist.github.com/jamesthomson/169bcd8e521c8b786458f4f421d95908"
   ]
  },
  {
   "cell_type": "code",
   "execution_count": null,
   "metadata": {},
   "outputs": [],
   "source": [
    "import nltk \n",
    "import gensim\n",
    "\n",
    "\n",
    "sample=\"\"\"Renewed fighting has broken out in South Sudan between forces loyal to the president and vice-president. A reporter in the capital, Juba, told the BBC gunfire and large explosions could be heard all over the city; he said heavy artillery was being used. More than 200 people are reported to have died in clashes since Friday. The latest violence came hours after the UN Security Council called on the warring factions to immediately stop the fighting. In a unanimous statement, the council condemned the violence \"in the strongest terms\" and expressed \"particular shock and outrage\" at attacks on UN sites. It also called for additional peacekeepers to be sent to South Sudan.\n",
    "Chinese media say two Chinese UN peacekeepers have now died in Juba. Several other peacekeepers have been injured, as well as a number of civilians who have been caught in crossfire. The latest round of violence erupted when troops loyal to President Salva Kiir and first Vice-President Riek Machar began shooting at each other in the streets of Juba. Relations between the two men have been fractious since South Sudan won independence from Sudan in 2011.\n",
    "Their forces have fought a civil war. But despite a peace deal last year ending the conflict, both sides retain their military capabilities and have continued to accuse each other of bad faith. On Monday, there were reports of tanks on the streets of Juba and clashes close to the airport and UN camps sheltering civilians. The US embassy warned of \"serious fighting\" taking place. A BBC correspondent in the Kenyan capital, Nairobi, said it was not clear if Mr Kiir and Mr Machar remained in control of their forces. A UN spokeswoman in Juba, Shantal Persaud, said fighting over the past few days had caused hundreds of internally displaced people to take refuge in UN premises. She said both South Sudanese leaders were responsible for implementing last year's peace agreement, which included a permanent ceasefire and the deployment of forces away from Juba. Information Minister Michael Makuei told the BBC that the situation in the city was \"under full control\" and civilians who had fled should return to their homes. Mr Machar's military spokesman, Col William Gatjiath, accused officials loyal to the president of lying, and said there had been at least 10 hours of clashes on Sunday. \"The situation in South Sudan is uncontrollable because Salva Kiir and his followers are not ready to follow the peace agreement,\" he said. \n",
    "\"\"\"\n",
    "\n",
    "sentences = nltk.sent_tokenize(sample)\n",
    "tokenized_sentences = [nltk.word_tokenize(sentence) for sentence in sentences]\n",
    "model = gensim.models.Word2Vec(tokenized_sentences, min_count=1)\n",
    "\n",
    "model.wv.most_similar(positive=['Sudan'], topn=5)\n",
    "model.wv.most_similar(positive=['Sudan'], negative=['UN'], topn=5)\n",
    "model.wv.most_similar(positive=['Sudan', 'UN'], topn=5)\n",
    "\n",
    "model.wv.similarity('South', 'Sudan')\n",
    "model.wv.similarity('peace', 'Sudan')"
   ]
  }
 ],
 "metadata": {
  "kernelspec": {
   "display_name": "Python 3",
   "language": "python",
   "name": "python3"
  },
  "language_info": {
   "codemirror_mode": {
    "name": "ipython",
    "version": 3
   },
   "file_extension": ".py",
   "mimetype": "text/x-python",
   "name": "python",
   "nbconvert_exporter": "python",
   "pygments_lexer": "ipython3",
   "version": "3.6.8"
  }
 },
 "nbformat": 4,
 "nbformat_minor": 2
}
